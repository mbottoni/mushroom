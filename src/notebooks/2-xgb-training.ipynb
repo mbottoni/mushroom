{
 "cells": [
  {
   "cell_type": "code",
   "execution_count": 7,
   "metadata": {},
   "outputs": [
    {
     "name": "stdout",
     "output_type": "stream",
     "text": [
      "The autoreload extension is already loaded. To reload it, use:\n",
      "  %reload_ext autoreload\n"
     ]
    }
   ],
   "source": [
    "%load_ext autoreload\n",
    "%autoreload 2\n",
    "\n",
    "import os \n",
    "import sys\n",
    "sys.path.append('..')\n",
    "sys.path.append('../..')\n",
    "\n",
    "import numpy as np\n",
    "import pandas as pd\n",
    "import matplotlib.pyplot as plt\n",
    "import seaborn as sns\n",
    "import lightgbm as lgb\n",
    "\n",
    "import xgboost as xgb\n",
    "from xgboost import XGBClassifier\n",
    "\n",
    "from sklearn.model_selection import train_test_split\n",
    "from sklearn.metrics import mean_squared_error\n",
    "from sklearn.ensemble import RandomForestClassifier, GradientBoostingClassifier\n",
    "from sklearn.linear_model import LogisticRegression\n",
    "from sklearn.preprocessing import StandardScaler, LabelEncoder\n",
    "from sklearn.preprocessing import OrdinalEncoder\n",
    "from sklearn.impute import SimpleImputer\n",
    "from sklearn.pipeline import Pipeline\n",
    "from sklearn.model_selection import GridSearchCV, cross_val_score\n",
    "from sklearn.metrics import accuracy_score, confusion_matrix, roc_auc_score\n",
    "from sklearn.metrics import matthews_corrcoef\n",
    "\n",
    "import category_encoders as ce\n",
    "\n",
    "from sklearn.pipeline import Pipeline, FeatureUnion\n",
    "from sklearn.impute import SimpleImputer\n",
    "from sklearn.preprocessing import StandardScaler, OneHotEncoder\n",
    "from sklearn.compose import ColumnTransformer\n",
    "from sklearn.decomposition import PCA\n",
    "from category_encoders import TargetEncoder, CatBoostEncoder\n",
    "\n",
    "\n",
    "import gc\n"
   ]
  },
  {
   "cell_type": "code",
   "execution_count": 8,
   "metadata": {},
   "outputs": [],
   "source": [
    "data_path = f'../../data/'\n",
    "train_path = data_path + 'train.csv'\n",
    "test_path = data_path + 'test.csv'\n",
    "submission_path = data_path + 'sample_submission.csv'   "
   ]
  },
  {
   "cell_type": "code",
   "execution_count": 9,
   "metadata": {},
   "outputs": [],
   "source": [
    "train = pd.read_csv(train_path)"
   ]
  },
  {
   "cell_type": "code",
   "execution_count": 5,
   "metadata": {},
   "outputs": [],
   "source": [
    "# Handle missing values in the training set\n",
    "missing_values_intrain = train.isnull().mean() * 100\n",
    "cols_drop = missing_values_intrain[missing_values_intrain > 95].index\n",
    "ds = train.drop(columns=cols_drop)\n",
    "\n",
    "###\n",
    "# Select categorical columns for encoding\n",
    "cols_train = ds.select_dtypes(include=['object']).columns\n",
    "cols_train = cols_train[cols_train != 'class']\n",
    "\n",
    "# Encode categorical features\n",
    "ordinal_encoder = OrdinalEncoder(handle_unknown='use_encoded_value', unknown_value=-1)\n",
    "ds[cols_train] = ordinal_encoder.fit_transform(ds[cols_train].astype(str))\n",
    "ds[cols_train] = ds[cols_train].astype(int)\n",
    "###\n",
    "\n",
    "# Drop the 'id' column\n",
    "ds = ds.drop(columns=['id'])\n",
    "\n",
    "# Encode target labels\n",
    "le = LabelEncoder()\n",
    "ds['class'] = le.fit_transform(ds['class'])\n",
    "\n",
    "# Split features and target\n",
    "X = ds.drop(columns=['class'])\n",
    "y = ds['class']\n"
   ]
  },
  {
   "cell_type": "code",
   "execution_count": 6,
   "metadata": {},
   "outputs": [
    {
     "data": {
      "text/html": [
       "<div>\n",
       "<style scoped>\n",
       "    .dataframe tbody tr th:only-of-type {\n",
       "        vertical-align: middle;\n",
       "    }\n",
       "\n",
       "    .dataframe tbody tr th {\n",
       "        vertical-align: top;\n",
       "    }\n",
       "\n",
       "    .dataframe thead th {\n",
       "        text-align: right;\n",
       "    }\n",
       "</style>\n",
       "<table border=\"1\" class=\"dataframe\">\n",
       "  <thead>\n",
       "    <tr style=\"text-align: right;\">\n",
       "      <th></th>\n",
       "      <th>cap-diameter</th>\n",
       "      <th>cap-shape</th>\n",
       "      <th>cap-surface</th>\n",
       "      <th>cap-color</th>\n",
       "      <th>does-bruise-or-bleed</th>\n",
       "      <th>gill-attachment</th>\n",
       "      <th>gill-spacing</th>\n",
       "      <th>gill-color</th>\n",
       "      <th>stem-height</th>\n",
       "      <th>stem-width</th>\n",
       "      <th>stem-root</th>\n",
       "      <th>stem-surface</th>\n",
       "      <th>stem-color</th>\n",
       "      <th>veil-type</th>\n",
       "      <th>veil-color</th>\n",
       "      <th>has-ring</th>\n",
       "      <th>ring-type</th>\n",
       "      <th>spore-print-color</th>\n",
       "      <th>habitat</th>\n",
       "      <th>season</th>\n",
       "    </tr>\n",
       "  </thead>\n",
       "  <tbody>\n",
       "    <tr>\n",
       "      <th>0</th>\n",
       "      <td>8.80</td>\n",
       "      <td>53</td>\n",
       "      <td>73</td>\n",
       "      <td>73</td>\n",
       "      <td>8</td>\n",
       "      <td>44</td>\n",
       "      <td>28</td>\n",
       "      <td>60</td>\n",
       "      <td>4.51</td>\n",
       "      <td>15.39</td>\n",
       "      <td>27</td>\n",
       "      <td>48</td>\n",
       "      <td>56</td>\n",
       "      <td>15</td>\n",
       "      <td>15</td>\n",
       "      <td>5</td>\n",
       "      <td>18</td>\n",
       "      <td>21</td>\n",
       "      <td>25</td>\n",
       "      <td>0</td>\n",
       "    </tr>\n",
       "    <tr>\n",
       "      <th>1</th>\n",
       "      <td>4.51</td>\n",
       "      <td>72</td>\n",
       "      <td>56</td>\n",
       "      <td>65</td>\n",
       "      <td>8</td>\n",
       "      <td>44</td>\n",
       "      <td>28</td>\n",
       "      <td>46</td>\n",
       "      <td>4.79</td>\n",
       "      <td>6.48</td>\n",
       "      <td>27</td>\n",
       "      <td>59</td>\n",
       "      <td>48</td>\n",
       "      <td>15</td>\n",
       "      <td>15</td>\n",
       "      <td>19</td>\n",
       "      <td>40</td>\n",
       "      <td>21</td>\n",
       "      <td>25</td>\n",
       "      <td>3</td>\n",
       "    </tr>\n",
       "    <tr>\n",
       "      <th>2</th>\n",
       "      <td>6.94</td>\n",
       "      <td>53</td>\n",
       "      <td>73</td>\n",
       "      <td>49</td>\n",
       "      <td>8</td>\n",
       "      <td>76</td>\n",
       "      <td>28</td>\n",
       "      <td>60</td>\n",
       "      <td>6.85</td>\n",
       "      <td>9.93</td>\n",
       "      <td>27</td>\n",
       "      <td>52</td>\n",
       "      <td>46</td>\n",
       "      <td>15</td>\n",
       "      <td>15</td>\n",
       "      <td>5</td>\n",
       "      <td>18</td>\n",
       "      <td>21</td>\n",
       "      <td>36</td>\n",
       "      <td>3</td>\n",
       "    </tr>\n",
       "    <tr>\n",
       "      <th>3</th>\n",
       "      <td>3.88</td>\n",
       "      <td>53</td>\n",
       "      <td>82</td>\n",
       "      <td>57</td>\n",
       "      <td>8</td>\n",
       "      <td>71</td>\n",
       "      <td>41</td>\n",
       "      <td>37</td>\n",
       "      <td>4.16</td>\n",
       "      <td>6.53</td>\n",
       "      <td>27</td>\n",
       "      <td>48</td>\n",
       "      <td>56</td>\n",
       "      <td>15</td>\n",
       "      <td>15</td>\n",
       "      <td>5</td>\n",
       "      <td>18</td>\n",
       "      <td>21</td>\n",
       "      <td>25</td>\n",
       "      <td>2</td>\n",
       "    </tr>\n",
       "    <tr>\n",
       "      <th>4</th>\n",
       "      <td>5.85</td>\n",
       "      <td>72</td>\n",
       "      <td>65</td>\n",
       "      <td>75</td>\n",
       "      <td>8</td>\n",
       "      <td>47</td>\n",
       "      <td>41</td>\n",
       "      <td>60</td>\n",
       "      <td>3.37</td>\n",
       "      <td>8.36</td>\n",
       "      <td>27</td>\n",
       "      <td>48</td>\n",
       "      <td>56</td>\n",
       "      <td>15</td>\n",
       "      <td>15</td>\n",
       "      <td>5</td>\n",
       "      <td>18</td>\n",
       "      <td>21</td>\n",
       "      <td>29</td>\n",
       "      <td>0</td>\n",
       "    </tr>\n",
       "    <tr>\n",
       "      <th>...</th>\n",
       "      <td>...</td>\n",
       "      <td>...</td>\n",
       "      <td>...</td>\n",
       "      <td>...</td>\n",
       "      <td>...</td>\n",
       "      <td>...</td>\n",
       "      <td>...</td>\n",
       "      <td>...</td>\n",
       "      <td>...</td>\n",
       "      <td>...</td>\n",
       "      <td>...</td>\n",
       "      <td>...</td>\n",
       "      <td>...</td>\n",
       "      <td>...</td>\n",
       "      <td>...</td>\n",
       "      <td>...</td>\n",
       "      <td>...</td>\n",
       "      <td>...</td>\n",
       "      <td>...</td>\n",
       "      <td>...</td>\n",
       "    </tr>\n",
       "    <tr>\n",
       "      <th>3116940</th>\n",
       "      <td>9.29</td>\n",
       "      <td>53</td>\n",
       "      <td>68</td>\n",
       "      <td>63</td>\n",
       "      <td>21</td>\n",
       "      <td>65</td>\n",
       "      <td>41</td>\n",
       "      <td>60</td>\n",
       "      <td>12.14</td>\n",
       "      <td>18.81</td>\n",
       "      <td>15</td>\n",
       "      <td>48</td>\n",
       "      <td>56</td>\n",
       "      <td>20</td>\n",
       "      <td>22</td>\n",
       "      <td>19</td>\n",
       "      <td>19</td>\n",
       "      <td>21</td>\n",
       "      <td>25</td>\n",
       "      <td>2</td>\n",
       "    </tr>\n",
       "    <tr>\n",
       "      <th>3116941</th>\n",
       "      <td>10.88</td>\n",
       "      <td>68</td>\n",
       "      <td>68</td>\n",
       "      <td>75</td>\n",
       "      <td>21</td>\n",
       "      <td>47</td>\n",
       "      <td>28</td>\n",
       "      <td>49</td>\n",
       "      <td>6.65</td>\n",
       "      <td>26.97</td>\n",
       "      <td>27</td>\n",
       "      <td>48</td>\n",
       "      <td>56</td>\n",
       "      <td>15</td>\n",
       "      <td>15</td>\n",
       "      <td>5</td>\n",
       "      <td>18</td>\n",
       "      <td>21</td>\n",
       "      <td>25</td>\n",
       "      <td>2</td>\n",
       "    </tr>\n",
       "    <tr>\n",
       "      <th>3116942</th>\n",
       "      <td>7.82</td>\n",
       "      <td>72</td>\n",
       "      <td>53</td>\n",
       "      <td>55</td>\n",
       "      <td>8</td>\n",
       "      <td>44</td>\n",
       "      <td>41</td>\n",
       "      <td>60</td>\n",
       "      <td>9.51</td>\n",
       "      <td>11.06</td>\n",
       "      <td>27</td>\n",
       "      <td>48</td>\n",
       "      <td>58</td>\n",
       "      <td>15</td>\n",
       "      <td>22</td>\n",
       "      <td>19</td>\n",
       "      <td>40</td>\n",
       "      <td>21</td>\n",
       "      <td>25</td>\n",
       "      <td>0</td>\n",
       "    </tr>\n",
       "    <tr>\n",
       "      <th>3116943</th>\n",
       "      <td>9.45</td>\n",
       "      <td>65</td>\n",
       "      <td>59</td>\n",
       "      <td>63</td>\n",
       "      <td>21</td>\n",
       "      <td>52</td>\n",
       "      <td>41</td>\n",
       "      <td>49</td>\n",
       "      <td>9.13</td>\n",
       "      <td>17.77</td>\n",
       "      <td>27</td>\n",
       "      <td>59</td>\n",
       "      <td>56</td>\n",
       "      <td>15</td>\n",
       "      <td>15</td>\n",
       "      <td>19</td>\n",
       "      <td>28</td>\n",
       "      <td>21</td>\n",
       "      <td>25</td>\n",
       "      <td>2</td>\n",
       "    </tr>\n",
       "    <tr>\n",
       "      <th>3116944</th>\n",
       "      <td>3.20</td>\n",
       "      <td>72</td>\n",
       "      <td>73</td>\n",
       "      <td>57</td>\n",
       "      <td>8</td>\n",
       "      <td>47</td>\n",
       "      <td>28</td>\n",
       "      <td>60</td>\n",
       "      <td>2.82</td>\n",
       "      <td>7.79</td>\n",
       "      <td>27</td>\n",
       "      <td>48</td>\n",
       "      <td>56</td>\n",
       "      <td>15</td>\n",
       "      <td>15</td>\n",
       "      <td>5</td>\n",
       "      <td>18</td>\n",
       "      <td>21</td>\n",
       "      <td>29</td>\n",
       "      <td>2</td>\n",
       "    </tr>\n",
       "  </tbody>\n",
       "</table>\n",
       "<p>3116945 rows × 20 columns</p>\n",
       "</div>"
      ],
      "text/plain": [
       "         cap-diameter  cap-shape  cap-surface  cap-color  \\\n",
       "0                8.80         53           73         73   \n",
       "1                4.51         72           56         65   \n",
       "2                6.94         53           73         49   \n",
       "3                3.88         53           82         57   \n",
       "4                5.85         72           65         75   \n",
       "...               ...        ...          ...        ...   \n",
       "3116940          9.29         53           68         63   \n",
       "3116941         10.88         68           68         75   \n",
       "3116942          7.82         72           53         55   \n",
       "3116943          9.45         65           59         63   \n",
       "3116944          3.20         72           73         57   \n",
       "\n",
       "         does-bruise-or-bleed  gill-attachment  gill-spacing  gill-color  \\\n",
       "0                           8               44            28          60   \n",
       "1                           8               44            28          46   \n",
       "2                           8               76            28          60   \n",
       "3                           8               71            41          37   \n",
       "4                           8               47            41          60   \n",
       "...                       ...              ...           ...         ...   \n",
       "3116940                    21               65            41          60   \n",
       "3116941                    21               47            28          49   \n",
       "3116942                     8               44            41          60   \n",
       "3116943                    21               52            41          49   \n",
       "3116944                     8               47            28          60   \n",
       "\n",
       "         stem-height  stem-width  stem-root  stem-surface  stem-color  \\\n",
       "0               4.51       15.39         27            48          56   \n",
       "1               4.79        6.48         27            59          48   \n",
       "2               6.85        9.93         27            52          46   \n",
       "3               4.16        6.53         27            48          56   \n",
       "4               3.37        8.36         27            48          56   \n",
       "...              ...         ...        ...           ...         ...   \n",
       "3116940        12.14       18.81         15            48          56   \n",
       "3116941         6.65       26.97         27            48          56   \n",
       "3116942         9.51       11.06         27            48          58   \n",
       "3116943         9.13       17.77         27            59          56   \n",
       "3116944         2.82        7.79         27            48          56   \n",
       "\n",
       "         veil-type  veil-color  has-ring  ring-type  spore-print-color  \\\n",
       "0               15          15         5         18                 21   \n",
       "1               15          15        19         40                 21   \n",
       "2               15          15         5         18                 21   \n",
       "3               15          15         5         18                 21   \n",
       "4               15          15         5         18                 21   \n",
       "...            ...         ...       ...        ...                ...   \n",
       "3116940         20          22        19         19                 21   \n",
       "3116941         15          15         5         18                 21   \n",
       "3116942         15          22        19         40                 21   \n",
       "3116943         15          15        19         28                 21   \n",
       "3116944         15          15         5         18                 21   \n",
       "\n",
       "         habitat  season  \n",
       "0             25       0  \n",
       "1             25       3  \n",
       "2             36       3  \n",
       "3             25       2  \n",
       "4             29       0  \n",
       "...          ...     ...  \n",
       "3116940       25       2  \n",
       "3116941       25       2  \n",
       "3116942       25       0  \n",
       "3116943       25       2  \n",
       "3116944       29       2  \n",
       "\n",
       "[3116945 rows x 20 columns]"
      ]
     },
     "execution_count": 6,
     "metadata": {},
     "output_type": "execute_result"
    }
   ],
   "source": [
    "X"
   ]
  },
  {
   "cell_type": "markdown",
   "metadata": {},
   "source": [
    "# XGB with hyperopt"
   ]
  },
  {
   "cell_type": "code",
   "execution_count": 12,
   "metadata": {},
   "outputs": [
    {
     "name": "stdout",
     "output_type": "stream",
     "text": [
      "Collecting hyperopt\n",
      "  Downloading hyperopt-0.2.7-py2.py3-none-any.whl.metadata (1.7 kB)\n",
      "Requirement already satisfied: numpy in /Users/maruanottoni/miniforge3/envs/mlp/lib/python3.8/site-packages (from hyperopt) (1.23.2)\n",
      "Requirement already satisfied: scipy in /Users/maruanottoni/miniforge3/envs/mlp/lib/python3.8/site-packages (from hyperopt) (1.9.1)\n",
      "Requirement already satisfied: six in /Users/maruanottoni/.local/lib/python3.8/site-packages (from hyperopt) (1.16.0)\n",
      "Requirement already satisfied: networkx>=2.2 in /Users/maruanottoni/miniforge3/envs/mlp/lib/python3.8/site-packages (from hyperopt) (3.1)\n",
      "Requirement already satisfied: future in /Users/maruanottoni/miniforge3/envs/mlp/lib/python3.8/site-packages (from hyperopt) (0.18.3)\n",
      "Requirement already satisfied: tqdm in /Users/maruanottoni/miniforge3/envs/mlp/lib/python3.8/site-packages (from hyperopt) (4.65.0)\n",
      "Requirement already satisfied: cloudpickle in /Users/maruanottoni/miniforge3/envs/mlp/lib/python3.8/site-packages (from hyperopt) (2.2.1)\n",
      "Collecting py4j (from hyperopt)\n",
      "  Downloading py4j-0.10.9.7-py2.py3-none-any.whl.metadata (1.5 kB)\n",
      "Downloading hyperopt-0.2.7-py2.py3-none-any.whl (1.6 MB)\n",
      "\u001b[2K   \u001b[90m━━━━━━━━━━━━━━━━━━━━━━━━━━━━━━━━━━━━━━━━\u001b[0m \u001b[32m1.6/1.6 MB\u001b[0m \u001b[31m9.2 MB/s\u001b[0m eta \u001b[36m0:00:00\u001b[0ma \u001b[36m0:00:01\u001b[0m\n",
      "\u001b[?25hDownloading py4j-0.10.9.7-py2.py3-none-any.whl (200 kB)\n",
      "\u001b[2K   \u001b[90m━━━━━━━━━━━━━━━━━━━━━━━━━━━━━━━━━━━━━━━━\u001b[0m \u001b[32m200.5/200.5 kB\u001b[0m \u001b[31m6.4 MB/s\u001b[0m eta \u001b[36m0:00:00\u001b[0m\n",
      "\u001b[?25hInstalling collected packages: py4j, hyperopt\n",
      "Successfully installed hyperopt-0.2.7 py4j-0.10.9.7\n",
      "\n",
      "\u001b[1m[\u001b[0m\u001b[34;49mnotice\u001b[0m\u001b[1;39;49m]\u001b[0m\u001b[39;49m A new release of pip is available: \u001b[0m\u001b[31;49m23.3.1\u001b[0m\u001b[39;49m -> \u001b[0m\u001b[32;49m24.2\u001b[0m\n",
      "\u001b[1m[\u001b[0m\u001b[34;49mnotice\u001b[0m\u001b[1;39;49m]\u001b[0m\u001b[39;49m To update, run: \u001b[0m\u001b[32;49mpip install --upgrade pip\u001b[0m\n"
     ]
    }
   ],
   "source": [
    "!pip install hyperopt"
   ]
  },
  {
   "cell_type": "code",
   "execution_count": 13,
   "metadata": {},
   "outputs": [
    {
     "name": "stdout",
     "output_type": "stream",
     "text": [
      "  0%|          | 0/50 [00:00<?, ?trial/s, best loss=?]"
     ]
    },
    {
     "name": "stderr",
     "output_type": "stream",
     "text": [
      "/Users/maruanottoni/miniforge3/envs/mlp/lib/python3.8/site-packages/xgboost/sklearn.py:835: UserWarning: `eval_metric` in `fit` method is deprecated for better compatibility with scikit-learn, use `eval_metric` in constructor or`set_params` instead.\n",
      "  warnings.warn(\n",
      "\n",
      "/Users/maruanottoni/miniforge3/envs/mlp/lib/python3.8/site-packages/xgboost/sklearn.py:835: UserWarning: `early_stopping_rounds` in `fit` method is deprecated for better compatibility with scikit-learn, use `early_stopping_rounds` in constructor or`set_params` instead.\n",
      "  warnings.warn(\n",
      "\n"
     ]
    },
    {
     "name": "stdout",
     "output_type": "stream",
     "text": [
      "  2%|▏         | 1/50 [00:17<14:06, 17.27s/trial, best loss: -0.8701685725683594]"
     ]
    },
    {
     "name": "stderr",
     "output_type": "stream",
     "text": [
      "/Users/maruanottoni/miniforge3/envs/mlp/lib/python3.8/site-packages/xgboost/sklearn.py:835: UserWarning: `eval_metric` in `fit` method is deprecated for better compatibility with scikit-learn, use `eval_metric` in constructor or`set_params` instead.\n",
      "  warnings.warn(\n",
      "\n",
      "/Users/maruanottoni/miniforge3/envs/mlp/lib/python3.8/site-packages/xgboost/sklearn.py:835: UserWarning: `early_stopping_rounds` in `fit` method is deprecated for better compatibility with scikit-learn, use `early_stopping_rounds` in constructor or`set_params` instead.\n",
      "  warnings.warn(\n",
      "\n"
     ]
    },
    {
     "name": "stdout",
     "output_type": "stream",
     "text": [
      "  4%|▍         | 2/50 [00:25<09:33, 11.95s/trial, best loss: -0.8701685725683594]"
     ]
    },
    {
     "name": "stderr",
     "output_type": "stream",
     "text": [
      "/Users/maruanottoni/miniforge3/envs/mlp/lib/python3.8/site-packages/xgboost/sklearn.py:835: UserWarning: `eval_metric` in `fit` method is deprecated for better compatibility with scikit-learn, use `eval_metric` in constructor or`set_params` instead.\n",
      "  warnings.warn(\n",
      "\n",
      "/Users/maruanottoni/miniforge3/envs/mlp/lib/python3.8/site-packages/xgboost/sklearn.py:835: UserWarning: `early_stopping_rounds` in `fit` method is deprecated for better compatibility with scikit-learn, use `early_stopping_rounds` in constructor or`set_params` instead.\n",
      "  warnings.warn(\n",
      "\n"
     ]
    },
    {
     "name": "stdout",
     "output_type": "stream",
     "text": [
      "  6%|▌         | 3/50 [00:34<08:26, 10.78s/trial, best loss: -0.8701685725683594]"
     ]
    },
    {
     "name": "stderr",
     "output_type": "stream",
     "text": [
      "/Users/maruanottoni/miniforge3/envs/mlp/lib/python3.8/site-packages/xgboost/sklearn.py:835: UserWarning: `eval_metric` in `fit` method is deprecated for better compatibility with scikit-learn, use `eval_metric` in constructor or`set_params` instead.\n",
      "  warnings.warn(\n",
      "\n",
      "/Users/maruanottoni/miniforge3/envs/mlp/lib/python3.8/site-packages/xgboost/sklearn.py:835: UserWarning: `early_stopping_rounds` in `fit` method is deprecated for better compatibility with scikit-learn, use `early_stopping_rounds` in constructor or`set_params` instead.\n",
      "  warnings.warn(\n",
      "\n"
     ]
    },
    {
     "name": "stdout",
     "output_type": "stream",
     "text": [
      "  8%|▊         | 4/50 [00:49<09:21, 12.21s/trial, best loss: -0.8701685725683594]"
     ]
    },
    {
     "name": "stderr",
     "output_type": "stream",
     "text": [
      "/Users/maruanottoni/miniforge3/envs/mlp/lib/python3.8/site-packages/xgboost/sklearn.py:835: UserWarning: `eval_metric` in `fit` method is deprecated for better compatibility with scikit-learn, use `eval_metric` in constructor or`set_params` instead.\n",
      "  warnings.warn(\n",
      "\n",
      "/Users/maruanottoni/miniforge3/envs/mlp/lib/python3.8/site-packages/xgboost/sklearn.py:835: UserWarning: `early_stopping_rounds` in `fit` method is deprecated for better compatibility with scikit-learn, use `early_stopping_rounds` in constructor or`set_params` instead.\n",
      "  warnings.warn(\n",
      "\n"
     ]
    },
    {
     "name": "stdout",
     "output_type": "stream",
     "text": [
      " 10%|█         | 5/50 [01:00<08:50, 11.80s/trial, best loss: -0.8701685725683594]"
     ]
    },
    {
     "name": "stderr",
     "output_type": "stream",
     "text": [
      "/Users/maruanottoni/miniforge3/envs/mlp/lib/python3.8/site-packages/xgboost/sklearn.py:835: UserWarning: `eval_metric` in `fit` method is deprecated for better compatibility with scikit-learn, use `eval_metric` in constructor or`set_params` instead.\n",
      "  warnings.warn(\n",
      "\n",
      "/Users/maruanottoni/miniforge3/envs/mlp/lib/python3.8/site-packages/xgboost/sklearn.py:835: UserWarning: `early_stopping_rounds` in `fit` method is deprecated for better compatibility with scikit-learn, use `early_stopping_rounds` in constructor or`set_params` instead.\n",
      "  warnings.warn(\n",
      "\n"
     ]
    },
    {
     "name": "stdout",
     "output_type": "stream",
     "text": [
      " 12%|█▏        | 6/50 [01:17<09:58, 13.59s/trial, best loss: -0.8701685725683594]"
     ]
    },
    {
     "name": "stderr",
     "output_type": "stream",
     "text": [
      "/Users/maruanottoni/miniforge3/envs/mlp/lib/python3.8/site-packages/xgboost/sklearn.py:835: UserWarning: `eval_metric` in `fit` method is deprecated for better compatibility with scikit-learn, use `eval_metric` in constructor or`set_params` instead.\n",
      "  warnings.warn(\n",
      "\n",
      "/Users/maruanottoni/miniforge3/envs/mlp/lib/python3.8/site-packages/xgboost/sklearn.py:835: UserWarning: `early_stopping_rounds` in `fit` method is deprecated for better compatibility with scikit-learn, use `early_stopping_rounds` in constructor or`set_params` instead.\n",
      "  warnings.warn(\n",
      "\n"
     ]
    },
    {
     "name": "stdout",
     "output_type": "stream",
     "text": [
      " 14%|█▍        | 7/50 [01:32<10:10, 14.21s/trial, best loss: -0.8894619260119795]"
     ]
    },
    {
     "name": "stderr",
     "output_type": "stream",
     "text": [
      "/Users/maruanottoni/miniforge3/envs/mlp/lib/python3.8/site-packages/xgboost/sklearn.py:835: UserWarning: `eval_metric` in `fit` method is deprecated for better compatibility with scikit-learn, use `eval_metric` in constructor or`set_params` instead.\n",
      "  warnings.warn(\n",
      "\n",
      "/Users/maruanottoni/miniforge3/envs/mlp/lib/python3.8/site-packages/xgboost/sklearn.py:835: UserWarning: `early_stopping_rounds` in `fit` method is deprecated for better compatibility with scikit-learn, use `early_stopping_rounds` in constructor or`set_params` instead.\n",
      "  warnings.warn(\n",
      "\n"
     ]
    },
    {
     "name": "stdout",
     "output_type": "stream",
     "text": [
      " 16%|█▌        | 8/50 [01:44<09:26, 13.48s/trial, best loss: -0.8894619260119795]"
     ]
    },
    {
     "name": "stderr",
     "output_type": "stream",
     "text": [
      "/Users/maruanottoni/miniforge3/envs/mlp/lib/python3.8/site-packages/xgboost/sklearn.py:835: UserWarning: `eval_metric` in `fit` method is deprecated for better compatibility with scikit-learn, use `eval_metric` in constructor or`set_params` instead.\n",
      "  warnings.warn(\n",
      "\n",
      "/Users/maruanottoni/miniforge3/envs/mlp/lib/python3.8/site-packages/xgboost/sklearn.py:835: UserWarning: `early_stopping_rounds` in `fit` method is deprecated for better compatibility with scikit-learn, use `early_stopping_rounds` in constructor or`set_params` instead.\n",
      "  warnings.warn(\n",
      "\n"
     ]
    },
    {
     "name": "stdout",
     "output_type": "stream",
     "text": [
      " 18%|█▊        | 9/50 [01:57<08:58, 13.13s/trial, best loss: -0.8894619260119795]"
     ]
    },
    {
     "name": "stderr",
     "output_type": "stream",
     "text": [
      "/Users/maruanottoni/miniforge3/envs/mlp/lib/python3.8/site-packages/xgboost/sklearn.py:835: UserWarning: `eval_metric` in `fit` method is deprecated for better compatibility with scikit-learn, use `eval_metric` in constructor or`set_params` instead.\n",
      "  warnings.warn(\n",
      "\n",
      "/Users/maruanottoni/miniforge3/envs/mlp/lib/python3.8/site-packages/xgboost/sklearn.py:835: UserWarning: `early_stopping_rounds` in `fit` method is deprecated for better compatibility with scikit-learn, use `early_stopping_rounds` in constructor or`set_params` instead.\n",
      "  warnings.warn(\n",
      "\n"
     ]
    },
    {
     "name": "stdout",
     "output_type": "stream",
     "text": [
      " 20%|██        | 10/50 [02:11<08:54, 13.37s/trial, best loss: -0.8894619260119795]"
     ]
    },
    {
     "name": "stderr",
     "output_type": "stream",
     "text": [
      "/Users/maruanottoni/miniforge3/envs/mlp/lib/python3.8/site-packages/xgboost/sklearn.py:835: UserWarning: `eval_metric` in `fit` method is deprecated for better compatibility with scikit-learn, use `eval_metric` in constructor or`set_params` instead.\n",
      "  warnings.warn(\n",
      "\n",
      "/Users/maruanottoni/miniforge3/envs/mlp/lib/python3.8/site-packages/xgboost/sklearn.py:835: UserWarning: `early_stopping_rounds` in `fit` method is deprecated for better compatibility with scikit-learn, use `early_stopping_rounds` in constructor or`set_params` instead.\n",
      "  warnings.warn(\n",
      "\n"
     ]
    },
    {
     "name": "stdout",
     "output_type": "stream",
     "text": [
      " 22%|██▏       | 11/50 [02:33<10:25, 16.05s/trial, best loss: -0.9382650187058447]"
     ]
    },
    {
     "name": "stderr",
     "output_type": "stream",
     "text": [
      "/Users/maruanottoni/miniforge3/envs/mlp/lib/python3.8/site-packages/xgboost/sklearn.py:835: UserWarning: `eval_metric` in `fit` method is deprecated for better compatibility with scikit-learn, use `eval_metric` in constructor or`set_params` instead.\n",
      "  warnings.warn(\n",
      "\n",
      "/Users/maruanottoni/miniforge3/envs/mlp/lib/python3.8/site-packages/xgboost/sklearn.py:835: UserWarning: `early_stopping_rounds` in `fit` method is deprecated for better compatibility with scikit-learn, use `early_stopping_rounds` in constructor or`set_params` instead.\n",
      "  warnings.warn(\n",
      "\n"
     ]
    },
    {
     "name": "stdout",
     "output_type": "stream",
     "text": [
      " 24%|██▍       | 12/50 [02:43<09:05, 14.36s/trial, best loss: -0.9382650187058447]"
     ]
    },
    {
     "name": "stderr",
     "output_type": "stream",
     "text": [
      "/Users/maruanottoni/miniforge3/envs/mlp/lib/python3.8/site-packages/xgboost/sklearn.py:835: UserWarning: `eval_metric` in `fit` method is deprecated for better compatibility with scikit-learn, use `eval_metric` in constructor or`set_params` instead.\n",
      "  warnings.warn(\n",
      "\n",
      "/Users/maruanottoni/miniforge3/envs/mlp/lib/python3.8/site-packages/xgboost/sklearn.py:835: UserWarning: `early_stopping_rounds` in `fit` method is deprecated for better compatibility with scikit-learn, use `early_stopping_rounds` in constructor or`set_params` instead.\n",
      "  warnings.warn(\n",
      "\n"
     ]
    },
    {
     "name": "stdout",
     "output_type": "stream",
     "text": [
      " 26%|██▌       | 13/50 [02:53<07:55, 12.84s/trial, best loss: -0.9382650187058447]"
     ]
    },
    {
     "name": "stderr",
     "output_type": "stream",
     "text": [
      "/Users/maruanottoni/miniforge3/envs/mlp/lib/python3.8/site-packages/xgboost/sklearn.py:835: UserWarning: `eval_metric` in `fit` method is deprecated for better compatibility with scikit-learn, use `eval_metric` in constructor or`set_params` instead.\n",
      "  warnings.warn(\n",
      "\n",
      "/Users/maruanottoni/miniforge3/envs/mlp/lib/python3.8/site-packages/xgboost/sklearn.py:835: UserWarning: `early_stopping_rounds` in `fit` method is deprecated for better compatibility with scikit-learn, use `early_stopping_rounds` in constructor or`set_params` instead.\n",
      "  warnings.warn(\n",
      "\n"
     ]
    },
    {
     "name": "stdout",
     "output_type": "stream",
     "text": [
      " 28%|██▊       | 14/50 [03:13<09:07, 15.21s/trial, best loss: -0.9382650187058447]"
     ]
    },
    {
     "name": "stderr",
     "output_type": "stream",
     "text": [
      "/Users/maruanottoni/miniforge3/envs/mlp/lib/python3.8/site-packages/xgboost/sklearn.py:835: UserWarning: `eval_metric` in `fit` method is deprecated for better compatibility with scikit-learn, use `eval_metric` in constructor or`set_params` instead.\n",
      "  warnings.warn(\n",
      "\n",
      "/Users/maruanottoni/miniforge3/envs/mlp/lib/python3.8/site-packages/xgboost/sklearn.py:835: UserWarning: `early_stopping_rounds` in `fit` method is deprecated for better compatibility with scikit-learn, use `early_stopping_rounds` in constructor or`set_params` instead.\n",
      "  warnings.warn(\n",
      "\n"
     ]
    },
    {
     "name": "stdout",
     "output_type": "stream",
     "text": [
      " 30%|███       | 15/50 [03:36<10:07, 17.35s/trial, best loss: -0.9469710163101517]"
     ]
    },
    {
     "name": "stderr",
     "output_type": "stream",
     "text": [
      "/Users/maruanottoni/miniforge3/envs/mlp/lib/python3.8/site-packages/xgboost/sklearn.py:835: UserWarning: `eval_metric` in `fit` method is deprecated for better compatibility with scikit-learn, use `eval_metric` in constructor or`set_params` instead.\n",
      "  warnings.warn(\n",
      "\n",
      "/Users/maruanottoni/miniforge3/envs/mlp/lib/python3.8/site-packages/xgboost/sklearn.py:835: UserWarning: `early_stopping_rounds` in `fit` method is deprecated for better compatibility with scikit-learn, use `early_stopping_rounds` in constructor or`set_params` instead.\n",
      "  warnings.warn(\n",
      "\n"
     ]
    },
    {
     "name": "stdout",
     "output_type": "stream",
     "text": [
      " 32%|███▏      | 16/50 [03:46<08:44, 15.42s/trial, best loss: -0.9469710163101517]"
     ]
    },
    {
     "name": "stderr",
     "output_type": "stream",
     "text": [
      "/Users/maruanottoni/miniforge3/envs/mlp/lib/python3.8/site-packages/xgboost/sklearn.py:835: UserWarning: `eval_metric` in `fit` method is deprecated for better compatibility with scikit-learn, use `eval_metric` in constructor or`set_params` instead.\n",
      "  warnings.warn(\n",
      "\n",
      "/Users/maruanottoni/miniforge3/envs/mlp/lib/python3.8/site-packages/xgboost/sklearn.py:835: UserWarning: `early_stopping_rounds` in `fit` method is deprecated for better compatibility with scikit-learn, use `early_stopping_rounds` in constructor or`set_params` instead.\n",
      "  warnings.warn(\n",
      "\n"
     ]
    },
    {
     "name": "stdout",
     "output_type": "stream",
     "text": [
      " 34%|███▍      | 17/50 [03:56<07:34, 13.77s/trial, best loss: -0.9469710163101517]"
     ]
    },
    {
     "name": "stderr",
     "output_type": "stream",
     "text": [
      "/Users/maruanottoni/miniforge3/envs/mlp/lib/python3.8/site-packages/xgboost/sklearn.py:835: UserWarning: `eval_metric` in `fit` method is deprecated for better compatibility with scikit-learn, use `eval_metric` in constructor or`set_params` instead.\n",
      "  warnings.warn(\n",
      "\n",
      "/Users/maruanottoni/miniforge3/envs/mlp/lib/python3.8/site-packages/xgboost/sklearn.py:835: UserWarning: `early_stopping_rounds` in `fit` method is deprecated for better compatibility with scikit-learn, use `early_stopping_rounds` in constructor or`set_params` instead.\n",
      "  warnings.warn(\n",
      "\n"
     ]
    },
    {
     "name": "stdout",
     "output_type": "stream",
     "text": [
      " 36%|███▌      | 18/50 [04:16<08:14, 15.45s/trial, best loss: -0.9469710163101517]"
     ]
    },
    {
     "name": "stderr",
     "output_type": "stream",
     "text": [
      "/Users/maruanottoni/miniforge3/envs/mlp/lib/python3.8/site-packages/xgboost/sklearn.py:835: UserWarning: `eval_metric` in `fit` method is deprecated for better compatibility with scikit-learn, use `eval_metric` in constructor or`set_params` instead.\n",
      "  warnings.warn(\n",
      "\n",
      "/Users/maruanottoni/miniforge3/envs/mlp/lib/python3.8/site-packages/xgboost/sklearn.py:835: UserWarning: `early_stopping_rounds` in `fit` method is deprecated for better compatibility with scikit-learn, use `early_stopping_rounds` in constructor or`set_params` instead.\n",
      "  warnings.warn(\n",
      "\n"
     ]
    },
    {
     "name": "stdout",
     "output_type": "stream",
     "text": [
      " 38%|███▊      | 19/50 [04:29<07:35, 14.68s/trial, best loss: -0.9469710163101517]"
     ]
    },
    {
     "name": "stderr",
     "output_type": "stream",
     "text": [
      "/Users/maruanottoni/miniforge3/envs/mlp/lib/python3.8/site-packages/xgboost/sklearn.py:835: UserWarning: `eval_metric` in `fit` method is deprecated for better compatibility with scikit-learn, use `eval_metric` in constructor or`set_params` instead.\n",
      "  warnings.warn(\n",
      "\n",
      "/Users/maruanottoni/miniforge3/envs/mlp/lib/python3.8/site-packages/xgboost/sklearn.py:835: UserWarning: `early_stopping_rounds` in `fit` method is deprecated for better compatibility with scikit-learn, use `early_stopping_rounds` in constructor or`set_params` instead.\n",
      "  warnings.warn(\n",
      "\n"
     ]
    },
    {
     "name": "stdout",
     "output_type": "stream",
     "text": [
      " 40%|████      | 20/50 [04:39<06:42, 13.40s/trial, best loss: -0.9469710163101517]"
     ]
    },
    {
     "name": "stderr",
     "output_type": "stream",
     "text": [
      "/Users/maruanottoni/miniforge3/envs/mlp/lib/python3.8/site-packages/xgboost/sklearn.py:835: UserWarning: `eval_metric` in `fit` method is deprecated for better compatibility with scikit-learn, use `eval_metric` in constructor or`set_params` instead.\n",
      "  warnings.warn(\n",
      "\n",
      "/Users/maruanottoni/miniforge3/envs/mlp/lib/python3.8/site-packages/xgboost/sklearn.py:835: UserWarning: `early_stopping_rounds` in `fit` method is deprecated for better compatibility with scikit-learn, use `early_stopping_rounds` in constructor or`set_params` instead.\n",
      "  warnings.warn(\n",
      "\n"
     ]
    },
    {
     "name": "stdout",
     "output_type": "stream",
     "text": [
      " 42%|████▏     | 21/50 [04:59<07:23, 15.29s/trial, best loss: -0.9469710163101517]"
     ]
    },
    {
     "name": "stderr",
     "output_type": "stream",
     "text": [
      "/Users/maruanottoni/miniforge3/envs/mlp/lib/python3.8/site-packages/xgboost/sklearn.py:835: UserWarning: `eval_metric` in `fit` method is deprecated for better compatibility with scikit-learn, use `eval_metric` in constructor or`set_params` instead.\n",
      "  warnings.warn(\n",
      "\n",
      "/Users/maruanottoni/miniforge3/envs/mlp/lib/python3.8/site-packages/xgboost/sklearn.py:835: UserWarning: `early_stopping_rounds` in `fit` method is deprecated for better compatibility with scikit-learn, use `early_stopping_rounds` in constructor or`set_params` instead.\n",
      "  warnings.warn(\n",
      "\n"
     ]
    },
    {
     "name": "stdout",
     "output_type": "stream",
     "text": [
      " 44%|████▍     | 22/50 [05:15<07:15, 15.57s/trial, best loss: -0.9469710163101517]"
     ]
    },
    {
     "name": "stderr",
     "output_type": "stream",
     "text": [
      "/Users/maruanottoni/miniforge3/envs/mlp/lib/python3.8/site-packages/xgboost/sklearn.py:835: UserWarning: `eval_metric` in `fit` method is deprecated for better compatibility with scikit-learn, use `eval_metric` in constructor or`set_params` instead.\n",
      "  warnings.warn(\n",
      "\n",
      "/Users/maruanottoni/miniforge3/envs/mlp/lib/python3.8/site-packages/xgboost/sklearn.py:835: UserWarning: `early_stopping_rounds` in `fit` method is deprecated for better compatibility with scikit-learn, use `early_stopping_rounds` in constructor or`set_params` instead.\n",
      "  warnings.warn(\n",
      "\n"
     ]
    },
    {
     "name": "stdout",
     "output_type": "stream",
     "text": [
      " 46%|████▌     | 23/50 [05:33<07:20, 16.30s/trial, best loss: -0.9469710163101517]"
     ]
    },
    {
     "name": "stderr",
     "output_type": "stream",
     "text": [
      "/Users/maruanottoni/miniforge3/envs/mlp/lib/python3.8/site-packages/xgboost/sklearn.py:835: UserWarning: `eval_metric` in `fit` method is deprecated for better compatibility with scikit-learn, use `eval_metric` in constructor or`set_params` instead.\n",
      "  warnings.warn(\n",
      "\n",
      "/Users/maruanottoni/miniforge3/envs/mlp/lib/python3.8/site-packages/xgboost/sklearn.py:835: UserWarning: `early_stopping_rounds` in `fit` method is deprecated for better compatibility with scikit-learn, use `early_stopping_rounds` in constructor or`set_params` instead.\n",
      "  warnings.warn(\n",
      "\n"
     ]
    },
    {
     "name": "stdout",
     "output_type": "stream",
     "text": [
      " 48%|████▊     | 24/50 [05:51<07:16, 16.79s/trial, best loss: -0.9469710163101517]"
     ]
    },
    {
     "name": "stderr",
     "output_type": "stream",
     "text": [
      "/Users/maruanottoni/miniforge3/envs/mlp/lib/python3.8/site-packages/xgboost/sklearn.py:835: UserWarning: `eval_metric` in `fit` method is deprecated for better compatibility with scikit-learn, use `eval_metric` in constructor or`set_params` instead.\n",
      "  warnings.warn(\n",
      "\n",
      "/Users/maruanottoni/miniforge3/envs/mlp/lib/python3.8/site-packages/xgboost/sklearn.py:835: UserWarning: `early_stopping_rounds` in `fit` method is deprecated for better compatibility with scikit-learn, use `early_stopping_rounds` in constructor or`set_params` instead.\n",
      "  warnings.warn(\n",
      "\n"
     ]
    },
    {
     "name": "stdout",
     "output_type": "stream",
     "text": [
      " 50%|█████     | 25/50 [06:10<07:17, 17.50s/trial, best loss: -0.9469710163101517]"
     ]
    },
    {
     "name": "stderr",
     "output_type": "stream",
     "text": [
      "/Users/maruanottoni/miniforge3/envs/mlp/lib/python3.8/site-packages/xgboost/sklearn.py:835: UserWarning: `eval_metric` in `fit` method is deprecated for better compatibility with scikit-learn, use `eval_metric` in constructor or`set_params` instead.\n",
      "  warnings.warn(\n",
      "\n",
      "/Users/maruanottoni/miniforge3/envs/mlp/lib/python3.8/site-packages/xgboost/sklearn.py:835: UserWarning: `early_stopping_rounds` in `fit` method is deprecated for better compatibility with scikit-learn, use `early_stopping_rounds` in constructor or`set_params` instead.\n",
      "  warnings.warn(\n",
      "\n"
     ]
    },
    {
     "name": "stdout",
     "output_type": "stream",
     "text": [
      " 52%|█████▏    | 26/50 [06:36<07:59, 19.99s/trial, best loss: -0.9472974295979041]"
     ]
    },
    {
     "name": "stderr",
     "output_type": "stream",
     "text": [
      "/Users/maruanottoni/miniforge3/envs/mlp/lib/python3.8/site-packages/xgboost/sklearn.py:835: UserWarning: `eval_metric` in `fit` method is deprecated for better compatibility with scikit-learn, use `eval_metric` in constructor or`set_params` instead.\n",
      "  warnings.warn(\n",
      "\n",
      "/Users/maruanottoni/miniforge3/envs/mlp/lib/python3.8/site-packages/xgboost/sklearn.py:835: UserWarning: `early_stopping_rounds` in `fit` method is deprecated for better compatibility with scikit-learn, use `early_stopping_rounds` in constructor or`set_params` instead.\n",
      "  warnings.warn(\n",
      "\n"
     ]
    },
    {
     "name": "stdout",
     "output_type": "stream",
     "text": [
      " 54%|█████▍    | 27/50 [06:56<07:43, 20.16s/trial, best loss: -0.9472974295979041]"
     ]
    },
    {
     "name": "stderr",
     "output_type": "stream",
     "text": [
      "/Users/maruanottoni/miniforge3/envs/mlp/lib/python3.8/site-packages/xgboost/sklearn.py:835: UserWarning: `eval_metric` in `fit` method is deprecated for better compatibility with scikit-learn, use `eval_metric` in constructor or`set_params` instead.\n",
      "  warnings.warn(\n",
      "\n",
      "/Users/maruanottoni/miniforge3/envs/mlp/lib/python3.8/site-packages/xgboost/sklearn.py:835: UserWarning: `early_stopping_rounds` in `fit` method is deprecated for better compatibility with scikit-learn, use `early_stopping_rounds` in constructor or`set_params` instead.\n",
      "  warnings.warn(\n",
      "\n"
     ]
    },
    {
     "name": "stdout",
     "output_type": "stream",
     "text": [
      " 56%|█████▌    | 28/50 [07:12<06:51, 18.73s/trial, best loss: -0.9472974295979041]"
     ]
    },
    {
     "name": "stderr",
     "output_type": "stream",
     "text": [
      "/Users/maruanottoni/miniforge3/envs/mlp/lib/python3.8/site-packages/xgboost/sklearn.py:835: UserWarning: `eval_metric` in `fit` method is deprecated for better compatibility with scikit-learn, use `eval_metric` in constructor or`set_params` instead.\n",
      "  warnings.warn(\n",
      "\n",
      "/Users/maruanottoni/miniforge3/envs/mlp/lib/python3.8/site-packages/xgboost/sklearn.py:835: UserWarning: `early_stopping_rounds` in `fit` method is deprecated for better compatibility with scikit-learn, use `early_stopping_rounds` in constructor or`set_params` instead.\n",
      "  warnings.warn(\n",
      "\n"
     ]
    },
    {
     "name": "stdout",
     "output_type": "stream",
     "text": [
      " 58%|█████▊    | 29/50 [07:28<06:15, 17.87s/trial, best loss: -0.9472974295979041]"
     ]
    },
    {
     "name": "stderr",
     "output_type": "stream",
     "text": [
      "/Users/maruanottoni/miniforge3/envs/mlp/lib/python3.8/site-packages/xgboost/sklearn.py:835: UserWarning: `eval_metric` in `fit` method is deprecated for better compatibility with scikit-learn, use `eval_metric` in constructor or`set_params` instead.\n",
      "  warnings.warn(\n",
      "\n",
      "/Users/maruanottoni/miniforge3/envs/mlp/lib/python3.8/site-packages/xgboost/sklearn.py:835: UserWarning: `early_stopping_rounds` in `fit` method is deprecated for better compatibility with scikit-learn, use `early_stopping_rounds` in constructor or`set_params` instead.\n",
      "  warnings.warn(\n",
      "\n"
     ]
    },
    {
     "name": "stdout",
     "output_type": "stream",
     "text": [
      " 60%|██████    | 30/50 [07:48<06:09, 18.46s/trial, best loss: -0.9472974295979041]"
     ]
    },
    {
     "name": "stderr",
     "output_type": "stream",
     "text": [
      "/Users/maruanottoni/miniforge3/envs/mlp/lib/python3.8/site-packages/xgboost/sklearn.py:835: UserWarning: `eval_metric` in `fit` method is deprecated for better compatibility with scikit-learn, use `eval_metric` in constructor or`set_params` instead.\n",
      "  warnings.warn(\n",
      "\n",
      "/Users/maruanottoni/miniforge3/envs/mlp/lib/python3.8/site-packages/xgboost/sklearn.py:835: UserWarning: `early_stopping_rounds` in `fit` method is deprecated for better compatibility with scikit-learn, use `early_stopping_rounds` in constructor or`set_params` instead.\n",
      "  warnings.warn(\n",
      "\n"
     ]
    },
    {
     "name": "stdout",
     "output_type": "stream",
     "text": [
      " 62%|██████▏   | 31/50 [07:54<04:40, 14.76s/trial, best loss: -0.9472974295979041]"
     ]
    },
    {
     "name": "stderr",
     "output_type": "stream",
     "text": [
      "/Users/maruanottoni/miniforge3/envs/mlp/lib/python3.8/site-packages/xgboost/sklearn.py:835: UserWarning: `eval_metric` in `fit` method is deprecated for better compatibility with scikit-learn, use `eval_metric` in constructor or`set_params` instead.\n",
      "  warnings.warn(\n",
      "\n",
      "/Users/maruanottoni/miniforge3/envs/mlp/lib/python3.8/site-packages/xgboost/sklearn.py:835: UserWarning: `early_stopping_rounds` in `fit` method is deprecated for better compatibility with scikit-learn, use `early_stopping_rounds` in constructor or`set_params` instead.\n",
      "  warnings.warn(\n",
      "\n"
     ]
    },
    {
     "name": "stdout",
     "output_type": "stream",
     "text": [
      " 64%|██████▍   | 32/50 [08:17<05:11, 17.32s/trial, best loss: -0.9472974295979041]"
     ]
    },
    {
     "name": "stderr",
     "output_type": "stream",
     "text": [
      "/Users/maruanottoni/miniforge3/envs/mlp/lib/python3.8/site-packages/xgboost/sklearn.py:835: UserWarning: `eval_metric` in `fit` method is deprecated for better compatibility with scikit-learn, use `eval_metric` in constructor or`set_params` instead.\n",
      "  warnings.warn(\n",
      "\n",
      "/Users/maruanottoni/miniforge3/envs/mlp/lib/python3.8/site-packages/xgboost/sklearn.py:835: UserWarning: `early_stopping_rounds` in `fit` method is deprecated for better compatibility with scikit-learn, use `early_stopping_rounds` in constructor or`set_params` instead.\n",
      "  warnings.warn(\n",
      "\n"
     ]
    },
    {
     "name": "stdout",
     "output_type": "stream",
     "text": [
      " 66%|██████▌   | 33/50 [08:42<05:34, 19.68s/trial, best loss: -0.9494162658031088]"
     ]
    },
    {
     "name": "stderr",
     "output_type": "stream",
     "text": [
      "/Users/maruanottoni/miniforge3/envs/mlp/lib/python3.8/site-packages/xgboost/sklearn.py:835: UserWarning: `eval_metric` in `fit` method is deprecated for better compatibility with scikit-learn, use `eval_metric` in constructor or`set_params` instead.\n",
      "  warnings.warn(\n",
      "\n",
      "/Users/maruanottoni/miniforge3/envs/mlp/lib/python3.8/site-packages/xgboost/sklearn.py:835: UserWarning: `early_stopping_rounds` in `fit` method is deprecated for better compatibility with scikit-learn, use `early_stopping_rounds` in constructor or`set_params` instead.\n",
      "  warnings.warn(\n",
      "\n"
     ]
    },
    {
     "name": "stdout",
     "output_type": "stream",
     "text": [
      " 68%|██████▊   | 34/50 [08:58<04:56, 18.51s/trial, best loss: -0.9494162658031088]"
     ]
    },
    {
     "name": "stderr",
     "output_type": "stream",
     "text": [
      "/Users/maruanottoni/miniforge3/envs/mlp/lib/python3.8/site-packages/xgboost/sklearn.py:835: UserWarning: `eval_metric` in `fit` method is deprecated for better compatibility with scikit-learn, use `eval_metric` in constructor or`set_params` instead.\n",
      "  warnings.warn(\n",
      "\n",
      "/Users/maruanottoni/miniforge3/envs/mlp/lib/python3.8/site-packages/xgboost/sklearn.py:835: UserWarning: `early_stopping_rounds` in `fit` method is deprecated for better compatibility with scikit-learn, use `early_stopping_rounds` in constructor or`set_params` instead.\n",
      "  warnings.warn(\n",
      "\n"
     ]
    },
    {
     "name": "stdout",
     "output_type": "stream",
     "text": [
      " 70%|███████   | 35/50 [09:05<03:47, 15.18s/trial, best loss: -0.9494162658031088]"
     ]
    },
    {
     "name": "stderr",
     "output_type": "stream",
     "text": [
      "/Users/maruanottoni/miniforge3/envs/mlp/lib/python3.8/site-packages/xgboost/sklearn.py:835: UserWarning: `eval_metric` in `fit` method is deprecated for better compatibility with scikit-learn, use `eval_metric` in constructor or`set_params` instead.\n",
      "  warnings.warn(\n",
      "\n",
      "/Users/maruanottoni/miniforge3/envs/mlp/lib/python3.8/site-packages/xgboost/sklearn.py:835: UserWarning: `early_stopping_rounds` in `fit` method is deprecated for better compatibility with scikit-learn, use `early_stopping_rounds` in constructor or`set_params` instead.\n",
      "  warnings.warn(\n",
      "\n"
     ]
    },
    {
     "name": "stdout",
     "output_type": "stream",
     "text": [
      " 72%|███████▏  | 36/50 [09:27<03:59, 17.13s/trial, best loss: -0.9494162658031088]"
     ]
    },
    {
     "name": "stderr",
     "output_type": "stream",
     "text": [
      "/Users/maruanottoni/miniforge3/envs/mlp/lib/python3.8/site-packages/xgboost/sklearn.py:835: UserWarning: `eval_metric` in `fit` method is deprecated for better compatibility with scikit-learn, use `eval_metric` in constructor or`set_params` instead.\n",
      "  warnings.warn(\n",
      "\n",
      "/Users/maruanottoni/miniforge3/envs/mlp/lib/python3.8/site-packages/xgboost/sklearn.py:835: UserWarning: `early_stopping_rounds` in `fit` method is deprecated for better compatibility with scikit-learn, use `early_stopping_rounds` in constructor or`set_params` instead.\n",
      "  warnings.warn(\n",
      "\n"
     ]
    },
    {
     "name": "stdout",
     "output_type": "stream",
     "text": [
      " 74%|███████▍  | 37/50 [09:46<03:50, 17.70s/trial, best loss: -0.9494162658031088]"
     ]
    },
    {
     "name": "stderr",
     "output_type": "stream",
     "text": [
      "/Users/maruanottoni/miniforge3/envs/mlp/lib/python3.8/site-packages/xgboost/sklearn.py:835: UserWarning: `eval_metric` in `fit` method is deprecated for better compatibility with scikit-learn, use `eval_metric` in constructor or`set_params` instead.\n",
      "  warnings.warn(\n",
      "\n",
      "/Users/maruanottoni/miniforge3/envs/mlp/lib/python3.8/site-packages/xgboost/sklearn.py:835: UserWarning: `early_stopping_rounds` in `fit` method is deprecated for better compatibility with scikit-learn, use `early_stopping_rounds` in constructor or`set_params` instead.\n",
      "  warnings.warn(\n",
      "\n"
     ]
    },
    {
     "name": "stdout",
     "output_type": "stream",
     "text": [
      " 76%|███████▌  | 38/50 [10:03<03:29, 17.46s/trial, best loss: -0.9494162658031088]"
     ]
    },
    {
     "name": "stderr",
     "output_type": "stream",
     "text": [
      "/Users/maruanottoni/miniforge3/envs/mlp/lib/python3.8/site-packages/xgboost/sklearn.py:835: UserWarning: `eval_metric` in `fit` method is deprecated for better compatibility with scikit-learn, use `eval_metric` in constructor or`set_params` instead.\n",
      "  warnings.warn(\n",
      "\n",
      "/Users/maruanottoni/miniforge3/envs/mlp/lib/python3.8/site-packages/xgboost/sklearn.py:835: UserWarning: `early_stopping_rounds` in `fit` method is deprecated for better compatibility with scikit-learn, use `early_stopping_rounds` in constructor or`set_params` instead.\n",
      "  warnings.warn(\n",
      "\n"
     ]
    },
    {
     "name": "stdout",
     "output_type": "stream",
     "text": [
      " 78%|███████▊  | 39/50 [10:25<03:26, 18.81s/trial, best loss: -0.9494162658031088]"
     ]
    },
    {
     "name": "stderr",
     "output_type": "stream",
     "text": [
      "/Users/maruanottoni/miniforge3/envs/mlp/lib/python3.8/site-packages/xgboost/sklearn.py:835: UserWarning: `eval_metric` in `fit` method is deprecated for better compatibility with scikit-learn, use `eval_metric` in constructor or`set_params` instead.\n",
      "  warnings.warn(\n",
      "\n",
      "/Users/maruanottoni/miniforge3/envs/mlp/lib/python3.8/site-packages/xgboost/sklearn.py:835: UserWarning: `early_stopping_rounds` in `fit` method is deprecated for better compatibility with scikit-learn, use `early_stopping_rounds` in constructor or`set_params` instead.\n",
      "  warnings.warn(\n",
      "\n"
     ]
    },
    {
     "name": "stdout",
     "output_type": "stream",
     "text": [
      " 80%|████████  | 40/50 [10:44<03:07, 18.78s/trial, best loss: -0.9494162658031088]"
     ]
    },
    {
     "name": "stderr",
     "output_type": "stream",
     "text": [
      "/Users/maruanottoni/miniforge3/envs/mlp/lib/python3.8/site-packages/xgboost/sklearn.py:835: UserWarning: `eval_metric` in `fit` method is deprecated for better compatibility with scikit-learn, use `eval_metric` in constructor or`set_params` instead.\n",
      "  warnings.warn(\n",
      "\n",
      "/Users/maruanottoni/miniforge3/envs/mlp/lib/python3.8/site-packages/xgboost/sklearn.py:835: UserWarning: `early_stopping_rounds` in `fit` method is deprecated for better compatibility with scikit-learn, use `early_stopping_rounds` in constructor or`set_params` instead.\n",
      "  warnings.warn(\n",
      "\n"
     ]
    },
    {
     "name": "stdout",
     "output_type": "stream",
     "text": [
      " 82%|████████▏ | 41/50 [11:00<02:41, 17.92s/trial, best loss: -0.9494162658031088]"
     ]
    },
    {
     "name": "stderr",
     "output_type": "stream",
     "text": [
      "/Users/maruanottoni/miniforge3/envs/mlp/lib/python3.8/site-packages/xgboost/sklearn.py:835: UserWarning: `eval_metric` in `fit` method is deprecated for better compatibility with scikit-learn, use `eval_metric` in constructor or`set_params` instead.\n",
      "  warnings.warn(\n",
      "\n",
      "/Users/maruanottoni/miniforge3/envs/mlp/lib/python3.8/site-packages/xgboost/sklearn.py:835: UserWarning: `early_stopping_rounds` in `fit` method is deprecated for better compatibility with scikit-learn, use `early_stopping_rounds` in constructor or`set_params` instead.\n",
      "  warnings.warn(\n",
      "\n"
     ]
    },
    {
     "name": "stdout",
     "output_type": "stream",
     "text": [
      " 84%|████████▍ | 42/50 [11:19<02:26, 18.34s/trial, best loss: -0.9494162658031088]"
     ]
    },
    {
     "name": "stderr",
     "output_type": "stream",
     "text": [
      "/Users/maruanottoni/miniforge3/envs/mlp/lib/python3.8/site-packages/xgboost/sklearn.py:835: UserWarning: `eval_metric` in `fit` method is deprecated for better compatibility with scikit-learn, use `eval_metric` in constructor or`set_params` instead.\n",
      "  warnings.warn(\n",
      "\n",
      "/Users/maruanottoni/miniforge3/envs/mlp/lib/python3.8/site-packages/xgboost/sklearn.py:835: UserWarning: `early_stopping_rounds` in `fit` method is deprecated for better compatibility with scikit-learn, use `early_stopping_rounds` in constructor or`set_params` instead.\n",
      "  warnings.warn(\n",
      "\n"
     ]
    },
    {
     "name": "stdout",
     "output_type": "stream",
     "text": [
      " 86%|████████▌ | 43/50 [11:42<02:17, 19.67s/trial, best loss: -0.9494162658031088]"
     ]
    },
    {
     "name": "stderr",
     "output_type": "stream",
     "text": [
      "/Users/maruanottoni/miniforge3/envs/mlp/lib/python3.8/site-packages/xgboost/sklearn.py:835: UserWarning: `eval_metric` in `fit` method is deprecated for better compatibility with scikit-learn, use `eval_metric` in constructor or`set_params` instead.\n",
      "  warnings.warn(\n",
      "\n",
      "/Users/maruanottoni/miniforge3/envs/mlp/lib/python3.8/site-packages/xgboost/sklearn.py:835: UserWarning: `early_stopping_rounds` in `fit` method is deprecated for better compatibility with scikit-learn, use `early_stopping_rounds` in constructor or`set_params` instead.\n",
      "  warnings.warn(\n",
      "\n"
     ]
    },
    {
     "name": "stdout",
     "output_type": "stream",
     "text": [
      " 88%|████████▊ | 44/50 [11:51<01:38, 16.46s/trial, best loss: -0.9494162658031088]"
     ]
    },
    {
     "name": "stderr",
     "output_type": "stream",
     "text": [
      "/Users/maruanottoni/miniforge3/envs/mlp/lib/python3.8/site-packages/xgboost/sklearn.py:835: UserWarning: `eval_metric` in `fit` method is deprecated for better compatibility with scikit-learn, use `eval_metric` in constructor or`set_params` instead.\n",
      "  warnings.warn(\n",
      "\n",
      "/Users/maruanottoni/miniforge3/envs/mlp/lib/python3.8/site-packages/xgboost/sklearn.py:835: UserWarning: `early_stopping_rounds` in `fit` method is deprecated for better compatibility with scikit-learn, use `early_stopping_rounds` in constructor or`set_params` instead.\n",
      "  warnings.warn(\n",
      "\n"
     ]
    },
    {
     "name": "stdout",
     "output_type": "stream",
     "text": [
      " 90%|█████████ | 45/50 [12:10<01:26, 17.34s/trial, best loss: -0.9494162658031088]"
     ]
    },
    {
     "name": "stderr",
     "output_type": "stream",
     "text": [
      "/Users/maruanottoni/miniforge3/envs/mlp/lib/python3.8/site-packages/xgboost/sklearn.py:835: UserWarning: `eval_metric` in `fit` method is deprecated for better compatibility with scikit-learn, use `eval_metric` in constructor or`set_params` instead.\n",
      "  warnings.warn(\n",
      "\n",
      "/Users/maruanottoni/miniforge3/envs/mlp/lib/python3.8/site-packages/xgboost/sklearn.py:835: UserWarning: `early_stopping_rounds` in `fit` method is deprecated for better compatibility with scikit-learn, use `early_stopping_rounds` in constructor or`set_params` instead.\n",
      "  warnings.warn(\n",
      "\n"
     ]
    },
    {
     "name": "stdout",
     "output_type": "stream",
     "text": [
      " 92%|█████████▏| 46/50 [12:22<01:03, 15.80s/trial, best loss: -0.9494162658031088]"
     ]
    },
    {
     "name": "stderr",
     "output_type": "stream",
     "text": [
      "/Users/maruanottoni/miniforge3/envs/mlp/lib/python3.8/site-packages/xgboost/sklearn.py:835: UserWarning: `eval_metric` in `fit` method is deprecated for better compatibility with scikit-learn, use `eval_metric` in constructor or`set_params` instead.\n",
      "  warnings.warn(\n",
      "\n",
      "/Users/maruanottoni/miniforge3/envs/mlp/lib/python3.8/site-packages/xgboost/sklearn.py:835: UserWarning: `early_stopping_rounds` in `fit` method is deprecated for better compatibility with scikit-learn, use `early_stopping_rounds` in constructor or`set_params` instead.\n",
      "  warnings.warn(\n",
      "\n"
     ]
    },
    {
     "name": "stdout",
     "output_type": "stream",
     "text": [
      " 94%|█████████▍| 47/50 [12:39<00:48, 16.19s/trial, best loss: -0.9494162658031088]"
     ]
    },
    {
     "name": "stderr",
     "output_type": "stream",
     "text": [
      "/Users/maruanottoni/miniforge3/envs/mlp/lib/python3.8/site-packages/xgboost/sklearn.py:835: UserWarning: `eval_metric` in `fit` method is deprecated for better compatibility with scikit-learn, use `eval_metric` in constructor or`set_params` instead.\n",
      "  warnings.warn(\n",
      "\n",
      "/Users/maruanottoni/miniforge3/envs/mlp/lib/python3.8/site-packages/xgboost/sklearn.py:835: UserWarning: `early_stopping_rounds` in `fit` method is deprecated for better compatibility with scikit-learn, use `early_stopping_rounds` in constructor or`set_params` instead.\n",
      "  warnings.warn(\n",
      "\n"
     ]
    },
    {
     "name": "stdout",
     "output_type": "stream",
     "text": [
      " 96%|█████████▌| 48/50 [12:55<00:32, 16.13s/trial, best loss: -0.9494162658031088]"
     ]
    },
    {
     "name": "stderr",
     "output_type": "stream",
     "text": [
      "/Users/maruanottoni/miniforge3/envs/mlp/lib/python3.8/site-packages/xgboost/sklearn.py:835: UserWarning: `eval_metric` in `fit` method is deprecated for better compatibility with scikit-learn, use `eval_metric` in constructor or`set_params` instead.\n",
      "  warnings.warn(\n",
      "\n",
      "/Users/maruanottoni/miniforge3/envs/mlp/lib/python3.8/site-packages/xgboost/sklearn.py:835: UserWarning: `early_stopping_rounds` in `fit` method is deprecated for better compatibility with scikit-learn, use `early_stopping_rounds` in constructor or`set_params` instead.\n",
      "  warnings.warn(\n",
      "\n"
     ]
    },
    {
     "name": "stdout",
     "output_type": "stream",
     "text": [
      " 98%|█████████▊| 49/50 [13:15<00:17, 17.35s/trial, best loss: -0.9494162658031088]"
     ]
    },
    {
     "name": "stderr",
     "output_type": "stream",
     "text": [
      "/Users/maruanottoni/miniforge3/envs/mlp/lib/python3.8/site-packages/xgboost/sklearn.py:835: UserWarning: `eval_metric` in `fit` method is deprecated for better compatibility with scikit-learn, use `eval_metric` in constructor or`set_params` instead.\n",
      "  warnings.warn(\n",
      "\n",
      "/Users/maruanottoni/miniforge3/envs/mlp/lib/python3.8/site-packages/xgboost/sklearn.py:835: UserWarning: `early_stopping_rounds` in `fit` method is deprecated for better compatibility with scikit-learn, use `early_stopping_rounds` in constructor or`set_params` instead.\n",
      "  warnings.warn(\n",
      "\n"
     ]
    },
    {
     "name": "stdout",
     "output_type": "stream",
     "text": [
      "100%|██████████| 50/50 [13:37<00:00, 16.34s/trial, best loss: -0.9494162658031088]\n"
     ]
    }
   ],
   "source": [
    "from hyperopt import fmin, tpe, hp, STATUS_OK, Trials\n",
    "from hyperopt.pyll.base import scope\n",
    "\n",
    "# Split data into train and test sets\n",
    "X_train, X_test, y_train, y_test = train_test_split(X, y, test_size=0.2, random_state=42)\n",
    "\n",
    "# Define the MCC metric for evaluation within the hyperopt objective\n",
    "def mcc_metric(y_pred, dmatrix):\n",
    "    y_true = dmatrix.get_label()\n",
    "    y_pred = (y_pred > 0.5).astype(int)\n",
    "    mcc = matthews_corrcoef(y_true, y_pred)\n",
    "    return mcc\n",
    "\n",
    "# Define the objective function for Hyperopt\n",
    "def objective(params):\n",
    "    model = XGBClassifier(\n",
    "        alpha=params['alpha'],                    \n",
    "        subsample=params['subsample'],     \n",
    "        colsample_bytree=params['colsample_bytree'],  \n",
    "        objective='binary:logistic',\n",
    "        max_depth=int(params['max_depth']),             \n",
    "        min_child_weight=params['min_child_weight'],         \n",
    "        gamma=params['gamma'],                \n",
    "        random_state=42,                 \n",
    "        n_estimators=int(params['n_estimators']),\n",
    "        learning_rate=params['learning_rate']\n",
    "    )\n",
    "    \n",
    "    model.fit(\n",
    "        X_train, \n",
    "        y_train, \n",
    "        eval_set=[(X_test, y_test)],\n",
    "        eval_metric=lambda y_pred, dmatrix: [('mcc', mcc_metric(y_pred, dmatrix))],\n",
    "        verbose=False,\n",
    "        early_stopping_rounds=10\n",
    "    )\n",
    "\n",
    "    y_pred = model.predict(X_test)\n",
    "    score = matthews_corrcoef(y_test, y_pred)\n",
    "    return {'loss': -score, 'status': STATUS_OK}\n",
    "\n",
    "# Define the hyperparameter search space\n",
    "space = {\n",
    "    'alpha': hp.loguniform('alpha', -5, 0),  # equivalent to alpha in range (exp(-5), exp(0))\n",
    "    'subsample': hp.uniform('subsample', 0.5, 1.0),\n",
    "    'colsample_bytree': hp.uniform('colsample_bytree', 0.5, 1.0),\n",
    "    'max_depth': scope.int(hp.quniform('max_depth', 3, 15, 1)),\n",
    "    'min_child_weight': hp.uniform('min_child_weight', 1, 10),\n",
    "    'gamma': hp.loguniform('gamma', -8, 0),  # equivalent to gamma in range (exp(-8), exp(0))\n",
    "    'n_estimators': scope.int(hp.quniform('n_estimators', 50, 300, 10)),\n",
    "    'learning_rate': hp.loguniform('learning_rate', -5, 0)  # equivalent to learning_rate in range (exp(-5), exp(0))\n",
    "}\n",
    "\n",
    "# Run the optimization process\n",
    "trials = Trials()\n",
    "best_params = fmin(\n",
    "    fn=objective,\n",
    "    space=space,\n",
    "    algo=tpe.suggest,\n",
    "    max_evals=50,\n",
    "    trials=trials,\n",
    "    rstate=np.random.default_rng(42)  # Ensure reproducibility\n",
    ")\n",
    "\n",
    "import pickle\n",
    "with open('best_params_xgb.pkl', 'wb') as f:\n",
    "    pickle.dump(best_params, f)"
   ]
  },
  {
   "cell_type": "code",
   "execution_count": 15,
   "metadata": {},
   "outputs": [
    {
     "name": "stderr",
     "output_type": "stream",
     "text": [
      "/Users/maruanottoni/miniforge3/envs/mlp/lib/python3.8/site-packages/xgboost/sklearn.py:835: UserWarning: `eval_metric` in `fit` method is deprecated for better compatibility with scikit-learn, use `eval_metric` in constructor or`set_params` instead.\n",
      "  warnings.warn(\n"
     ]
    },
    {
     "name": "stdout",
     "output_type": "stream",
     "text": [
      "[0]\tvalidation_0-logloss:0.59087\tvalidation_0-mcc:0.94942\n",
      "[1]\tvalidation_0-logloss:0.50738\tvalidation_0-mcc:0.96548\n",
      "[2]\tvalidation_0-logloss:0.44175\tvalidation_0-mcc:0.97115\n",
      "[3]\tvalidation_0-logloss:0.38585\tvalidation_0-mcc:0.97252\n",
      "[4]\tvalidation_0-logloss:0.33962\tvalidation_0-mcc:0.97198\n",
      "[5]\tvalidation_0-logloss:0.30028\tvalidation_0-mcc:0.97242\n",
      "[6]\tvalidation_0-logloss:0.26669\tvalidation_0-mcc:0.97254\n",
      "[7]\tvalidation_0-logloss:0.23885\tvalidation_0-mcc:0.97338\n",
      "[8]\tvalidation_0-logloss:0.21448\tvalidation_0-mcc:0.97357\n",
      "[9]\tvalidation_0-logloss:0.19264\tvalidation_0-mcc:0.97453\n",
      "[10]\tvalidation_0-logloss:0.17402\tvalidation_0-mcc:0.97465\n",
      "[11]\tvalidation_0-logloss:0.15831\tvalidation_0-mcc:0.97511\n",
      "[12]\tvalidation_0-logloss:0.14374\tvalidation_0-mcc:0.97565\n",
      "[13]\tvalidation_0-logloss:0.13108\tvalidation_0-mcc:0.97654\n",
      "[14]\tvalidation_0-logloss:0.12059\tvalidation_0-mcc:0.97680\n",
      "[15]\tvalidation_0-logloss:0.11100\tvalidation_0-mcc:0.97723\n",
      "[16]\tvalidation_0-logloss:0.10256\tvalidation_0-mcc:0.97753\n",
      "[17]\tvalidation_0-logloss:0.09543\tvalidation_0-mcc:0.97793\n",
      "[18]\tvalidation_0-logloss:0.08877\tvalidation_0-mcc:0.97813\n",
      "[19]\tvalidation_0-logloss:0.08326\tvalidation_0-mcc:0.97823\n",
      "[20]\tvalidation_0-logloss:0.07830\tvalidation_0-mcc:0.97850\n",
      "[21]\tvalidation_0-logloss:0.07376\tvalidation_0-mcc:0.97890\n",
      "[22]\tvalidation_0-logloss:0.06972\tvalidation_0-mcc:0.97902\n",
      "[23]\tvalidation_0-logloss:0.06630\tvalidation_0-mcc:0.97923\n",
      "[24]\tvalidation_0-logloss:0.06292\tvalidation_0-mcc:0.97959\n",
      "[25]\tvalidation_0-logloss:0.06024\tvalidation_0-mcc:0.97969\n",
      "[26]\tvalidation_0-logloss:0.05796\tvalidation_0-mcc:0.97987\n",
      "[27]\tvalidation_0-logloss:0.05622\tvalidation_0-mcc:0.97998\n",
      "[28]\tvalidation_0-logloss:0.05462\tvalidation_0-mcc:0.98013\n",
      "[29]\tvalidation_0-logloss:0.05264\tvalidation_0-mcc:0.98036\n",
      "[30]\tvalidation_0-logloss:0.05086\tvalidation_0-mcc:0.98065\n",
      "[31]\tvalidation_0-logloss:0.04955\tvalidation_0-mcc:0.98073\n",
      "[32]\tvalidation_0-logloss:0.04840\tvalidation_0-mcc:0.98086\n",
      "[33]\tvalidation_0-logloss:0.04732\tvalidation_0-mcc:0.98098\n",
      "[34]\tvalidation_0-logloss:0.04624\tvalidation_0-mcc:0.98119\n",
      "[35]\tvalidation_0-logloss:0.04528\tvalidation_0-mcc:0.98135\n",
      "[36]\tvalidation_0-logloss:0.04443\tvalidation_0-mcc:0.98151\n",
      "[37]\tvalidation_0-logloss:0.04368\tvalidation_0-mcc:0.98167\n",
      "[38]\tvalidation_0-logloss:0.04304\tvalidation_0-mcc:0.98183\n",
      "[39]\tvalidation_0-logloss:0.04270\tvalidation_0-mcc:0.98188\n",
      "[40]\tvalidation_0-logloss:0.04209\tvalidation_0-mcc:0.98203\n",
      "[41]\tvalidation_0-logloss:0.04165\tvalidation_0-mcc:0.98213\n",
      "[42]\tvalidation_0-logloss:0.04119\tvalidation_0-mcc:0.98231\n",
      "[43]\tvalidation_0-logloss:0.04082\tvalidation_0-mcc:0.98237\n",
      "[44]\tvalidation_0-logloss:0.04047\tvalidation_0-mcc:0.98249\n",
      "[45]\tvalidation_0-logloss:0.04014\tvalidation_0-mcc:0.98254\n",
      "[46]\tvalidation_0-logloss:0.03992\tvalidation_0-mcc:0.98260\n",
      "[47]\tvalidation_0-logloss:0.03976\tvalidation_0-mcc:0.98265\n",
      "[48]\tvalidation_0-logloss:0.03963\tvalidation_0-mcc:0.98269\n",
      "[49]\tvalidation_0-logloss:0.03946\tvalidation_0-mcc:0.98272\n",
      "[50]\tvalidation_0-logloss:0.03933\tvalidation_0-mcc:0.98272\n",
      "[51]\tvalidation_0-logloss:0.03924\tvalidation_0-mcc:0.98275\n",
      "[52]\tvalidation_0-logloss:0.03911\tvalidation_0-mcc:0.98284\n",
      "[53]\tvalidation_0-logloss:0.03898\tvalidation_0-mcc:0.98289\n",
      "[54]\tvalidation_0-logloss:0.03884\tvalidation_0-mcc:0.98295\n",
      "[55]\tvalidation_0-logloss:0.03872\tvalidation_0-mcc:0.98296\n",
      "[56]\tvalidation_0-logloss:0.03864\tvalidation_0-mcc:0.98299\n",
      "[57]\tvalidation_0-logloss:0.03854\tvalidation_0-mcc:0.98302\n",
      "[58]\tvalidation_0-logloss:0.03847\tvalidation_0-mcc:0.98306\n",
      "[59]\tvalidation_0-logloss:0.03842\tvalidation_0-mcc:0.98307\n",
      "[60]\tvalidation_0-logloss:0.03836\tvalidation_0-mcc:0.98311\n",
      "[61]\tvalidation_0-logloss:0.03833\tvalidation_0-mcc:0.98312\n",
      "[62]\tvalidation_0-logloss:0.03827\tvalidation_0-mcc:0.98315\n",
      "[63]\tvalidation_0-logloss:0.03824\tvalidation_0-mcc:0.98315\n",
      "[64]\tvalidation_0-logloss:0.03818\tvalidation_0-mcc:0.98323\n",
      "[65]\tvalidation_0-logloss:0.03815\tvalidation_0-mcc:0.98323\n",
      "[66]\tvalidation_0-logloss:0.03811\tvalidation_0-mcc:0.98326\n",
      "[67]\tvalidation_0-logloss:0.03809\tvalidation_0-mcc:0.98323\n",
      "[68]\tvalidation_0-logloss:0.03806\tvalidation_0-mcc:0.98326\n",
      "[69]\tvalidation_0-logloss:0.03805\tvalidation_0-mcc:0.98324\n",
      "[70]\tvalidation_0-logloss:0.03803\tvalidation_0-mcc:0.98325\n",
      "[71]\tvalidation_0-logloss:0.03803\tvalidation_0-mcc:0.98324\n",
      "[72]\tvalidation_0-logloss:0.03798\tvalidation_0-mcc:0.98330\n",
      "[73]\tvalidation_0-logloss:0.03798\tvalidation_0-mcc:0.98331\n",
      "[74]\tvalidation_0-logloss:0.03797\tvalidation_0-mcc:0.98332\n",
      "[75]\tvalidation_0-logloss:0.03795\tvalidation_0-mcc:0.98334\n",
      "[76]\tvalidation_0-logloss:0.03794\tvalidation_0-mcc:0.98334\n",
      "[77]\tvalidation_0-logloss:0.03794\tvalidation_0-mcc:0.98335\n",
      "[78]\tvalidation_0-logloss:0.03792\tvalidation_0-mcc:0.98339\n",
      "[79]\tvalidation_0-logloss:0.03792\tvalidation_0-mcc:0.98340\n",
      "[80]\tvalidation_0-logloss:0.03791\tvalidation_0-mcc:0.98339\n",
      "[81]\tvalidation_0-logloss:0.03790\tvalidation_0-mcc:0.98340\n",
      "[82]\tvalidation_0-logloss:0.03791\tvalidation_0-mcc:0.98341\n",
      "[83]\tvalidation_0-logloss:0.03790\tvalidation_0-mcc:0.98342\n",
      "[84]\tvalidation_0-logloss:0.03790\tvalidation_0-mcc:0.98342\n",
      "[85]\tvalidation_0-logloss:0.03790\tvalidation_0-mcc:0.98343\n",
      "[86]\tvalidation_0-logloss:0.03790\tvalidation_0-mcc:0.98347\n",
      "[87]\tvalidation_0-logloss:0.03789\tvalidation_0-mcc:0.98347\n",
      "[88]\tvalidation_0-logloss:0.03789\tvalidation_0-mcc:0.98345\n",
      "[89]\tvalidation_0-logloss:0.03786\tvalidation_0-mcc:0.98346\n",
      "[90]\tvalidation_0-logloss:0.03786\tvalidation_0-mcc:0.98347\n",
      "[91]\tvalidation_0-logloss:0.03786\tvalidation_0-mcc:0.98347\n",
      "[92]\tvalidation_0-logloss:0.03785\tvalidation_0-mcc:0.98345\n",
      "[93]\tvalidation_0-logloss:0.03785\tvalidation_0-mcc:0.98345\n",
      "[94]\tvalidation_0-logloss:0.03785\tvalidation_0-mcc:0.98345\n",
      "[95]\tvalidation_0-logloss:0.03785\tvalidation_0-mcc:0.98345\n",
      "[96]\tvalidation_0-logloss:0.03785\tvalidation_0-mcc:0.98345\n",
      "[97]\tvalidation_0-logloss:0.03785\tvalidation_0-mcc:0.98347\n",
      "[98]\tvalidation_0-logloss:0.03786\tvalidation_0-mcc:0.98346\n",
      "[99]\tvalidation_0-logloss:0.03786\tvalidation_0-mcc:0.98346\n",
      "[100]\tvalidation_0-logloss:0.03786\tvalidation_0-mcc:0.98345\n",
      "[101]\tvalidation_0-logloss:0.03787\tvalidation_0-mcc:0.98345\n",
      "[102]\tvalidation_0-logloss:0.03786\tvalidation_0-mcc:0.98345\n",
      "[103]\tvalidation_0-logloss:0.03786\tvalidation_0-mcc:0.98346\n",
      "[104]\tvalidation_0-logloss:0.03783\tvalidation_0-mcc:0.98346\n",
      "[105]\tvalidation_0-logloss:0.03782\tvalidation_0-mcc:0.98349\n",
      "[106]\tvalidation_0-logloss:0.03782\tvalidation_0-mcc:0.98349\n",
      "[107]\tvalidation_0-logloss:0.03782\tvalidation_0-mcc:0.98349\n",
      "[108]\tvalidation_0-logloss:0.03781\tvalidation_0-mcc:0.98353\n",
      "[109]\tvalidation_0-logloss:0.03781\tvalidation_0-mcc:0.98351\n",
      "[110]\tvalidation_0-logloss:0.03781\tvalidation_0-mcc:0.98352\n",
      "[111]\tvalidation_0-logloss:0.03781\tvalidation_0-mcc:0.98353\n",
      "[112]\tvalidation_0-logloss:0.03781\tvalidation_0-mcc:0.98353\n",
      "[113]\tvalidation_0-logloss:0.03781\tvalidation_0-mcc:0.98354\n",
      "[114]\tvalidation_0-logloss:0.03782\tvalidation_0-mcc:0.98354\n",
      "[115]\tvalidation_0-logloss:0.03781\tvalidation_0-mcc:0.98354\n",
      "[116]\tvalidation_0-logloss:0.03781\tvalidation_0-mcc:0.98354\n",
      "[117]\tvalidation_0-logloss:0.03781\tvalidation_0-mcc:0.98355\n",
      "[118]\tvalidation_0-logloss:0.03781\tvalidation_0-mcc:0.98354\n",
      "[119]\tvalidation_0-logloss:0.03780\tvalidation_0-mcc:0.98356\n",
      "[120]\tvalidation_0-logloss:0.03780\tvalidation_0-mcc:0.98358\n",
      "[121]\tvalidation_0-logloss:0.03779\tvalidation_0-mcc:0.98357\n",
      "[122]\tvalidation_0-logloss:0.03779\tvalidation_0-mcc:0.98358\n",
      "[123]\tvalidation_0-logloss:0.03779\tvalidation_0-mcc:0.98357\n",
      "[124]\tvalidation_0-logloss:0.03779\tvalidation_0-mcc:0.98357\n",
      "[125]\tvalidation_0-logloss:0.03779\tvalidation_0-mcc:0.98358\n",
      "[126]\tvalidation_0-logloss:0.03780\tvalidation_0-mcc:0.98357\n",
      "[127]\tvalidation_0-logloss:0.03780\tvalidation_0-mcc:0.98357\n",
      "[128]\tvalidation_0-logloss:0.03780\tvalidation_0-mcc:0.98357\n",
      "[129]\tvalidation_0-logloss:0.03780\tvalidation_0-mcc:0.98358\n",
      "[130]\tvalidation_0-logloss:0.03780\tvalidation_0-mcc:0.98357\n",
      "[131]\tvalidation_0-logloss:0.03780\tvalidation_0-mcc:0.98357\n",
      "[132]\tvalidation_0-logloss:0.03780\tvalidation_0-mcc:0.98357\n",
      "[133]\tvalidation_0-logloss:0.03780\tvalidation_0-mcc:0.98357\n",
      "[134]\tvalidation_0-logloss:0.03780\tvalidation_0-mcc:0.98358\n",
      "[135]\tvalidation_0-logloss:0.03779\tvalidation_0-mcc:0.98357\n",
      "[136]\tvalidation_0-logloss:0.03780\tvalidation_0-mcc:0.98359\n",
      "[137]\tvalidation_0-logloss:0.03780\tvalidation_0-mcc:0.98358\n",
      "[138]\tvalidation_0-logloss:0.03780\tvalidation_0-mcc:0.98357\n",
      "[139]\tvalidation_0-logloss:0.03781\tvalidation_0-mcc:0.98357\n",
      "[140]\tvalidation_0-logloss:0.03781\tvalidation_0-mcc:0.98357\n",
      "[141]\tvalidation_0-logloss:0.03780\tvalidation_0-mcc:0.98357\n",
      "[142]\tvalidation_0-logloss:0.03781\tvalidation_0-mcc:0.98357\n",
      "[143]\tvalidation_0-logloss:0.03781\tvalidation_0-mcc:0.98356\n",
      "[144]\tvalidation_0-logloss:0.03781\tvalidation_0-mcc:0.98357\n",
      "[145]\tvalidation_0-logloss:0.03781\tvalidation_0-mcc:0.98358\n",
      "[146]\tvalidation_0-logloss:0.03781\tvalidation_0-mcc:0.98358\n",
      "[147]\tvalidation_0-logloss:0.03781\tvalidation_0-mcc:0.98358\n",
      "[148]\tvalidation_0-logloss:0.03781\tvalidation_0-mcc:0.98358\n",
      "[149]\tvalidation_0-logloss:0.03781\tvalidation_0-mcc:0.98359\n",
      "[150]\tvalidation_0-logloss:0.03781\tvalidation_0-mcc:0.98359\n",
      "[151]\tvalidation_0-logloss:0.03781\tvalidation_0-mcc:0.98359\n",
      "[152]\tvalidation_0-logloss:0.03781\tvalidation_0-mcc:0.98360\n",
      "[153]\tvalidation_0-logloss:0.03781\tvalidation_0-mcc:0.98360\n",
      "[154]\tvalidation_0-logloss:0.03782\tvalidation_0-mcc:0.98360\n",
      "[155]\tvalidation_0-logloss:0.03781\tvalidation_0-mcc:0.98364\n",
      "[156]\tvalidation_0-logloss:0.03781\tvalidation_0-mcc:0.98364\n",
      "[157]\tvalidation_0-logloss:0.03781\tvalidation_0-mcc:0.98364\n",
      "[158]\tvalidation_0-logloss:0.03781\tvalidation_0-mcc:0.98365\n",
      "[159]\tvalidation_0-logloss:0.03781\tvalidation_0-mcc:0.98365\n",
      "[160]\tvalidation_0-logloss:0.03780\tvalidation_0-mcc:0.98366\n",
      "[161]\tvalidation_0-logloss:0.03780\tvalidation_0-mcc:0.98367\n",
      "[162]\tvalidation_0-logloss:0.03780\tvalidation_0-mcc:0.98368\n",
      "[163]\tvalidation_0-logloss:0.03780\tvalidation_0-mcc:0.98367\n",
      "[164]\tvalidation_0-logloss:0.03779\tvalidation_0-mcc:0.98369\n",
      "[165]\tvalidation_0-logloss:0.03780\tvalidation_0-mcc:0.98368\n",
      "[166]\tvalidation_0-logloss:0.03779\tvalidation_0-mcc:0.98371\n",
      "[167]\tvalidation_0-logloss:0.03779\tvalidation_0-mcc:0.98370\n",
      "[168]\tvalidation_0-logloss:0.03780\tvalidation_0-mcc:0.98370\n",
      "[169]\tvalidation_0-logloss:0.03780\tvalidation_0-mcc:0.98369\n",
      "[170]\tvalidation_0-logloss:0.03780\tvalidation_0-mcc:0.98370\n",
      "[171]\tvalidation_0-logloss:0.03780\tvalidation_0-mcc:0.98371\n",
      "[172]\tvalidation_0-logloss:0.03779\tvalidation_0-mcc:0.98370\n",
      "[173]\tvalidation_0-logloss:0.03780\tvalidation_0-mcc:0.98371\n",
      "[174]\tvalidation_0-logloss:0.03780\tvalidation_0-mcc:0.98371\n",
      "[175]\tvalidation_0-logloss:0.03781\tvalidation_0-mcc:0.98370\n",
      "[176]\tvalidation_0-logloss:0.03781\tvalidation_0-mcc:0.98370\n",
      "[177]\tvalidation_0-logloss:0.03781\tvalidation_0-mcc:0.98370\n",
      "[178]\tvalidation_0-logloss:0.03781\tvalidation_0-mcc:0.98371\n",
      "[179]\tvalidation_0-logloss:0.03781\tvalidation_0-mcc:0.98371\n",
      "[180]\tvalidation_0-logloss:0.03781\tvalidation_0-mcc:0.98371\n",
      "[181]\tvalidation_0-logloss:0.03781\tvalidation_0-mcc:0.98371\n",
      "[182]\tvalidation_0-logloss:0.03781\tvalidation_0-mcc:0.98371\n",
      "[183]\tvalidation_0-logloss:0.03781\tvalidation_0-mcc:0.98370\n",
      "[184]\tvalidation_0-logloss:0.03782\tvalidation_0-mcc:0.98372\n",
      "[185]\tvalidation_0-logloss:0.03782\tvalidation_0-mcc:0.98372\n",
      "[186]\tvalidation_0-logloss:0.03782\tvalidation_0-mcc:0.98374\n",
      "[187]\tvalidation_0-logloss:0.03782\tvalidation_0-mcc:0.98375\n",
      "[188]\tvalidation_0-logloss:0.03782\tvalidation_0-mcc:0.98375\n",
      "[189]\tvalidation_0-logloss:0.03782\tvalidation_0-mcc:0.98371\n",
      "[190]\tvalidation_0-logloss:0.03782\tvalidation_0-mcc:0.98371\n",
      "[191]\tvalidation_0-logloss:0.03783\tvalidation_0-mcc:0.98371\n",
      "[192]\tvalidation_0-logloss:0.03783\tvalidation_0-mcc:0.98371\n",
      "[193]\tvalidation_0-logloss:0.03783\tvalidation_0-mcc:0.98371\n",
      "[194]\tvalidation_0-logloss:0.03783\tvalidation_0-mcc:0.98374\n",
      "[195]\tvalidation_0-logloss:0.03783\tvalidation_0-mcc:0.98374\n",
      "[196]\tvalidation_0-logloss:0.03784\tvalidation_0-mcc:0.98374\n",
      "[197]\tvalidation_0-logloss:0.03784\tvalidation_0-mcc:0.98373\n",
      "[198]\tvalidation_0-logloss:0.03784\tvalidation_0-mcc:0.98373\n",
      "[199]\tvalidation_0-logloss:0.03785\tvalidation_0-mcc:0.98373\n",
      "Best MCC: 0.9837328838151443\n"
     ]
    }
   ],
   "source": [
    "# Train the final model with the best parameters\n",
    "best_model = XGBClassifier(\n",
    "    alpha=best_params['alpha'],                    \n",
    "    subsample=best_params['subsample'],     \n",
    "    colsample_bytree=best_params['colsample_bytree'],  \n",
    "    objective='binary:logistic',\n",
    "    max_depth=int(best_params['max_depth']),             \n",
    "    min_child_weight=best_params['min_child_weight'],         \n",
    "    gamma=best_params['gamma'],                \n",
    "    random_state=42,                 \n",
    "    n_estimators=int(best_params['n_estimators']),\n",
    "    learning_rate=best_params['learning_rate']\n",
    ")\n",
    "\n",
    "best_model.fit(\n",
    "    X_train, \n",
    "    y_train, \n",
    "    eval_set=[(X_test, y_test)],\n",
    "    eval_metric=lambda y_pred, dmatrix: [('mcc', mcc_metric(y_pred, dmatrix))],\n",
    "    verbose=True\n",
    ")\n",
    "\n",
    "# Evaluate the final model\n",
    "y_pred = best_model.predict(X_test)\n",
    "final_score = matthews_corrcoef(y_test, y_pred)\n",
    "print('Best MCC:', final_score)\n",
    "\n"
   ]
  },
  {
   "cell_type": "code",
   "execution_count": 16,
   "metadata": {},
   "outputs": [],
   "source": [
    "import pickle\n",
    "with open('../../models/best_model.pkl', 'wb') as f:\n",
    "    pickle.dump(best_model, f)"
   ]
  },
  {
   "cell_type": "markdown",
   "metadata": {},
   "source": [
    "# XGB"
   ]
  },
  {
   "cell_type": "code",
   "execution_count": 19,
   "metadata": {},
   "outputs": [],
   "source": [
    "# Split data into train and test sets\n",
    "X_train, X_test, y_train, y_test = train_test_split(X, y, test_size=0.2, random_state=42)"
   ]
  },
  {
   "cell_type": "code",
   "execution_count": 20,
   "metadata": {},
   "outputs": [],
   "source": [
    "# Define the MCC metric for evaluation\n",
    "def mcc_metric(y_pred, dmatrix):\n",
    "    y_true = dmatrix.get_label()\n",
    "    y_pred = (y_pred > 0.5).astype(int)\n",
    "    mcc = matthews_corrcoef(y_true, y_pred)\n",
    "    return 'mcc', mcc\n"
   ]
  },
  {
   "cell_type": "code",
   "execution_count": 21,
   "metadata": {},
   "outputs": [
    {
     "name": "stderr",
     "output_type": "stream",
     "text": [
      "/Users/maruanottoni/miniforge3/envs/mlp/lib/python3.8/site-packages/xgboost/sklearn.py:835: UserWarning: `eval_metric` in `fit` method is deprecated for better compatibility with scikit-learn, use `eval_metric` in constructor or`set_params` instead.\n",
      "  warnings.warn(\n"
     ]
    },
    {
     "name": "stdout",
     "output_type": "stream",
     "text": [
      "[0]\tvalidation_0-logloss:0.46945\tvalidation_0-mcc:0.91872\n",
      "[1]\tvalidation_0-logloss:0.36374\tvalidation_0-mcc:0.95269\n",
      "[2]\tvalidation_0-logloss:0.27142\tvalidation_0-mcc:0.96986\n",
      "[3]\tvalidation_0-logloss:0.20504\tvalidation_0-mcc:0.97476\n",
      "[4]\tvalidation_0-logloss:0.16220\tvalidation_0-mcc:0.97578\n",
      "[5]\tvalidation_0-logloss:0.13477\tvalidation_0-mcc:0.97682\n",
      "[6]\tvalidation_0-logloss:0.11449\tvalidation_0-mcc:0.97722\n",
      "[7]\tvalidation_0-logloss:0.09570\tvalidation_0-mcc:0.97928\n",
      "[8]\tvalidation_0-logloss:0.08436\tvalidation_0-mcc:0.97978\n",
      "[9]\tvalidation_0-logloss:0.07728\tvalidation_0-mcc:0.97999\n",
      "[10]\tvalidation_0-logloss:0.07022\tvalidation_0-mcc:0.98030\n",
      "[11]\tvalidation_0-logloss:0.06425\tvalidation_0-mcc:0.98040\n",
      "[12]\tvalidation_0-logloss:0.05759\tvalidation_0-mcc:0.98075\n",
      "[13]\tvalidation_0-logloss:0.05406\tvalidation_0-mcc:0.98106\n",
      "[14]\tvalidation_0-logloss:0.04912\tvalidation_0-mcc:0.98184\n",
      "[15]\tvalidation_0-logloss:0.04575\tvalidation_0-mcc:0.98237\n",
      "[16]\tvalidation_0-logloss:0.04355\tvalidation_0-mcc:0.98269\n",
      "[17]\tvalidation_0-logloss:0.04208\tvalidation_0-mcc:0.98276\n",
      "[18]\tvalidation_0-logloss:0.04110\tvalidation_0-mcc:0.98281\n",
      "[19]\tvalidation_0-logloss:0.04016\tvalidation_0-mcc:0.98300\n",
      "[20]\tvalidation_0-logloss:0.03963\tvalidation_0-mcc:0.98308\n",
      "[21]\tvalidation_0-logloss:0.03925\tvalidation_0-mcc:0.98312\n",
      "[22]\tvalidation_0-logloss:0.03913\tvalidation_0-mcc:0.98310\n",
      "[23]\tvalidation_0-logloss:0.03878\tvalidation_0-mcc:0.98322\n",
      "[24]\tvalidation_0-logloss:0.03857\tvalidation_0-mcc:0.98327\n",
      "[25]\tvalidation_0-logloss:0.03836\tvalidation_0-mcc:0.98330\n",
      "[26]\tvalidation_0-logloss:0.03812\tvalidation_0-mcc:0.98343\n",
      "[27]\tvalidation_0-logloss:0.03801\tvalidation_0-mcc:0.98352\n",
      "[28]\tvalidation_0-logloss:0.03791\tvalidation_0-mcc:0.98354\n",
      "[29]\tvalidation_0-logloss:0.03779\tvalidation_0-mcc:0.98359\n",
      "[30]\tvalidation_0-logloss:0.03775\tvalidation_0-mcc:0.98359\n",
      "[31]\tvalidation_0-logloss:0.03774\tvalidation_0-mcc:0.98359\n",
      "[32]\tvalidation_0-logloss:0.03773\tvalidation_0-mcc:0.98364\n",
      "[33]\tvalidation_0-logloss:0.03766\tvalidation_0-mcc:0.98365\n",
      "[34]\tvalidation_0-logloss:0.03764\tvalidation_0-mcc:0.98365\n",
      "[35]\tvalidation_0-logloss:0.03763\tvalidation_0-mcc:0.98372\n",
      "[36]\tvalidation_0-logloss:0.03762\tvalidation_0-mcc:0.98369\n",
      "[37]\tvalidation_0-logloss:0.03761\tvalidation_0-mcc:0.98372\n",
      "[38]\tvalidation_0-logloss:0.03759\tvalidation_0-mcc:0.98369\n",
      "[39]\tvalidation_0-logloss:0.03760\tvalidation_0-mcc:0.98371\n",
      "[40]\tvalidation_0-logloss:0.03757\tvalidation_0-mcc:0.98369\n",
      "[41]\tvalidation_0-logloss:0.03757\tvalidation_0-mcc:0.98369\n",
      "[42]\tvalidation_0-logloss:0.03757\tvalidation_0-mcc:0.98372\n",
      "[43]\tvalidation_0-logloss:0.03757\tvalidation_0-mcc:0.98374\n",
      "[44]\tvalidation_0-logloss:0.03758\tvalidation_0-mcc:0.98373\n",
      "[45]\tvalidation_0-logloss:0.03758\tvalidation_0-mcc:0.98374\n",
      "[46]\tvalidation_0-logloss:0.03758\tvalidation_0-mcc:0.98371\n",
      "[47]\tvalidation_0-logloss:0.03759\tvalidation_0-mcc:0.98373\n",
      "[48]\tvalidation_0-logloss:0.03759\tvalidation_0-mcc:0.98374\n",
      "[49]\tvalidation_0-logloss:0.03760\tvalidation_0-mcc:0.98371\n",
      "[50]\tvalidation_0-logloss:0.03761\tvalidation_0-mcc:0.98372\n",
      "[51]\tvalidation_0-logloss:0.03762\tvalidation_0-mcc:0.98372\n",
      "[52]\tvalidation_0-logloss:0.03763\tvalidation_0-mcc:0.98374\n",
      "[53]\tvalidation_0-logloss:0.03764\tvalidation_0-mcc:0.98374\n",
      "[54]\tvalidation_0-logloss:0.03761\tvalidation_0-mcc:0.98378\n",
      "[55]\tvalidation_0-logloss:0.03763\tvalidation_0-mcc:0.98379\n",
      "[56]\tvalidation_0-logloss:0.03760\tvalidation_0-mcc:0.98384\n",
      "[57]\tvalidation_0-logloss:0.03761\tvalidation_0-mcc:0.98385\n",
      "[58]\tvalidation_0-logloss:0.03759\tvalidation_0-mcc:0.98387\n",
      "[59]\tvalidation_0-logloss:0.03760\tvalidation_0-mcc:0.98387\n",
      "[60]\tvalidation_0-logloss:0.03760\tvalidation_0-mcc:0.98387\n",
      "[61]\tvalidation_0-logloss:0.03762\tvalidation_0-mcc:0.98382\n",
      "[62]\tvalidation_0-logloss:0.03764\tvalidation_0-mcc:0.98382\n",
      "[63]\tvalidation_0-logloss:0.03765\tvalidation_0-mcc:0.98382\n",
      "[64]\tvalidation_0-logloss:0.03765\tvalidation_0-mcc:0.98380\n",
      "[65]\tvalidation_0-logloss:0.03766\tvalidation_0-mcc:0.98380\n",
      "[66]\tvalidation_0-logloss:0.03765\tvalidation_0-mcc:0.98381\n",
      "[67]\tvalidation_0-logloss:0.03766\tvalidation_0-mcc:0.98379\n",
      "[68]\tvalidation_0-logloss:0.03764\tvalidation_0-mcc:0.98379\n",
      "[69]\tvalidation_0-logloss:0.03766\tvalidation_0-mcc:0.98376\n",
      "[70]\tvalidation_0-logloss:0.03767\tvalidation_0-mcc:0.98373\n",
      "[71]\tvalidation_0-logloss:0.03767\tvalidation_0-mcc:0.98373\n",
      "[72]\tvalidation_0-logloss:0.03767\tvalidation_0-mcc:0.98377\n",
      "[73]\tvalidation_0-logloss:0.03769\tvalidation_0-mcc:0.98376\n",
      "[74]\tvalidation_0-logloss:0.03770\tvalidation_0-mcc:0.98377\n",
      "[75]\tvalidation_0-logloss:0.03771\tvalidation_0-mcc:0.98377\n",
      "[76]\tvalidation_0-logloss:0.03772\tvalidation_0-mcc:0.98374\n",
      "[77]\tvalidation_0-logloss:0.03772\tvalidation_0-mcc:0.98374\n",
      "[78]\tvalidation_0-logloss:0.03772\tvalidation_0-mcc:0.98373\n",
      "[79]\tvalidation_0-logloss:0.03773\tvalidation_0-mcc:0.98372\n",
      "[80]\tvalidation_0-logloss:0.03773\tvalidation_0-mcc:0.98371\n",
      "[81]\tvalidation_0-logloss:0.03774\tvalidation_0-mcc:0.98370\n",
      "[82]\tvalidation_0-logloss:0.03775\tvalidation_0-mcc:0.98369\n",
      "[83]\tvalidation_0-logloss:0.03775\tvalidation_0-mcc:0.98368\n",
      "[84]\tvalidation_0-logloss:0.03777\tvalidation_0-mcc:0.98373\n",
      "[85]\tvalidation_0-logloss:0.03777\tvalidation_0-mcc:0.98372\n",
      "[86]\tvalidation_0-logloss:0.03779\tvalidation_0-mcc:0.98374\n",
      "[87]\tvalidation_0-logloss:0.03781\tvalidation_0-mcc:0.98370\n",
      "[88]\tvalidation_0-logloss:0.03783\tvalidation_0-mcc:0.98371\n",
      "[89]\tvalidation_0-logloss:0.03783\tvalidation_0-mcc:0.98371\n",
      "[90]\tvalidation_0-logloss:0.03785\tvalidation_0-mcc:0.98369\n",
      "[91]\tvalidation_0-logloss:0.03786\tvalidation_0-mcc:0.98367\n",
      "[92]\tvalidation_0-logloss:0.03787\tvalidation_0-mcc:0.98366\n",
      "[93]\tvalidation_0-logloss:0.03788\tvalidation_0-mcc:0.98366\n",
      "[94]\tvalidation_0-logloss:0.03788\tvalidation_0-mcc:0.98365\n",
      "[95]\tvalidation_0-logloss:0.03790\tvalidation_0-mcc:0.98366\n",
      "[96]\tvalidation_0-logloss:0.03791\tvalidation_0-mcc:0.98367\n",
      "[97]\tvalidation_0-logloss:0.03791\tvalidation_0-mcc:0.98364\n",
      "[98]\tvalidation_0-logloss:0.03789\tvalidation_0-mcc:0.98364\n",
      "[99]\tvalidation_0-logloss:0.03790\tvalidation_0-mcc:0.98363\n",
      "MCC: 0.9836332001545705\n"
     ]
    }
   ],
   "source": [
    "# Initialize the XGBClassifier\n",
    "model = XGBClassifier(                    \n",
    "    alpha=0.1,                   \n",
    "    subsample=0.8,     \n",
    "    colsample_bytree=0.55,  \n",
    "    objective='binary:logistic',\n",
    "    max_depth=14,             \n",
    "    min_child_weight=7,         \n",
    "    gamma=1e-6,                \n",
    "    random_state=42,                 \n",
    "    n_estimators=100             \n",
    ")\n",
    "\n",
    "# Train the model\n",
    "XGB = model.fit(\n",
    "    X_train, \n",
    "    y_train, \n",
    "    eval_set=[(X_test, y_test)],\n",
    "    eval_metric=mcc_metric\n",
    ")\n",
    "\n",
    "# Evaluate the model\n",
    "y_pred = XGB.predict(X_test)\n",
    "score = matthews_corrcoef(y_test, y_pred)\n",
    "print('MCC:', score)\n",
    "\n",
    "# Process the test set\n",
    "df = pd.read_csv(test_path)\n",
    "\n",
    "# Ensure the same columns are dropped in the test set\n",
    "df = df.drop(columns=cols_drop.intersection(df.columns))\n",
    "\n",
    "# Apply the same ordinal encoding\n",
    "df[cols_train] = ordinal_encoder.transform(df[cols_train].astype(str))\n",
    "\n",
    "# Convert all columns to appropriate numeric types\n",
    "df[cols_train] = df[cols_train].astype(int)\n",
    "\n",
    "# Drop the 'id' column if it exists in the test set\n",
    "if 'id' in df.columns:\n",
    "    df = df.drop(columns=['id'])\n",
    "\n"
   ]
  },
  {
   "cell_type": "code",
   "execution_count": 22,
   "metadata": {},
   "outputs": [
    {
     "name": "stdout",
     "output_type": "stream",
     "text": [
      "MCC: 0.9836332001545705\n"
     ]
    }
   ],
   "source": [
    "# Evaluate the model\n",
    "y_pred = XGB.predict(X_test)\n",
    "score = matthews_corrcoef(y_test, y_pred)\n",
    "print('MCC:', score)"
   ]
  },
  {
   "cell_type": "code",
   "execution_count": null,
   "metadata": {},
   "outputs": [],
   "source": []
  },
  {
   "cell_type": "code",
   "execution_count": null,
   "metadata": {},
   "outputs": [],
   "source": []
  },
  {
   "cell_type": "code",
   "execution_count": null,
   "metadata": {},
   "outputs": [],
   "source": []
  },
  {
   "cell_type": "code",
   "execution_count": null,
   "metadata": {},
   "outputs": [],
   "source": []
  },
  {
   "cell_type": "code",
   "execution_count": null,
   "metadata": {},
   "outputs": [],
   "source": []
  },
  {
   "cell_type": "code",
   "execution_count": null,
   "metadata": {},
   "outputs": [],
   "source": []
  },
  {
   "cell_type": "markdown",
   "metadata": {},
   "source": [
    "# Test set"
   ]
  },
  {
   "cell_type": "code",
   "execution_count": null,
   "metadata": {},
   "outputs": [],
   "source": []
  },
  {
   "cell_type": "code",
   "execution_count": 17,
   "metadata": {},
   "outputs": [],
   "source": [
    "# Process the test set\n",
    "df = pd.read_csv(test_path)\n",
    "\n",
    "# Ensure the same columns are dropped in the test set\n",
    "df = df.drop(columns=cols_drop.intersection(df.columns))\n",
    "\n",
    "# Apply the same ordinal encoding\n",
    "df[cols_train] = ordinal_encoder.transform(df[cols_train].astype(str))\n",
    "\n",
    "# Convert all columns to appropriate numeric types\n",
    "df[cols_train] = df[cols_train].astype(int)\n",
    "\n",
    "# Drop the 'id' column if it exists in the test set\n",
    "if 'id' in df.columns:\n",
    "    df = df.drop(columns=['id'])\n",
    "\n"
   ]
  },
  {
   "cell_type": "code",
   "execution_count": 18,
   "metadata": {},
   "outputs": [],
   "source": [
    "y_final = best_model.predict(df)"
   ]
  },
  {
   "cell_type": "code",
   "execution_count": 19,
   "metadata": {},
   "outputs": [],
   "source": [
    "y_final2 = le.inverse_transform(y_final)"
   ]
  },
  {
   "cell_type": "code",
   "execution_count": 20,
   "metadata": {},
   "outputs": [
    {
     "data": {
      "text/plain": [
       "685"
      ]
     },
     "execution_count": 20,
     "metadata": {},
     "output_type": "execute_result"
    }
   ],
   "source": [
    "sub_sample = pd.read_csv(submission_path)\n",
    "df_submission = pd.DataFrame({'id': sub_sample['id'], 'class': y_final2})\n",
    "\n",
    "df_submission.to_csv('../../data/prediction.csv', index=False)\n",
    "gc.collect()"
   ]
  },
  {
   "cell_type": "code",
   "execution_count": 21,
   "metadata": {},
   "outputs": [
    {
     "data": {
      "text/html": [
       "<div>\n",
       "<style scoped>\n",
       "    .dataframe tbody tr th:only-of-type {\n",
       "        vertical-align: middle;\n",
       "    }\n",
       "\n",
       "    .dataframe tbody tr th {\n",
       "        vertical-align: top;\n",
       "    }\n",
       "\n",
       "    .dataframe thead th {\n",
       "        text-align: right;\n",
       "    }\n",
       "</style>\n",
       "<table border=\"1\" class=\"dataframe\">\n",
       "  <thead>\n",
       "    <tr style=\"text-align: right;\">\n",
       "      <th></th>\n",
       "      <th>id</th>\n",
       "      <th>class</th>\n",
       "    </tr>\n",
       "  </thead>\n",
       "  <tbody>\n",
       "    <tr>\n",
       "      <th>0</th>\n",
       "      <td>3116945</td>\n",
       "      <td>e</td>\n",
       "    </tr>\n",
       "    <tr>\n",
       "      <th>1</th>\n",
       "      <td>3116946</td>\n",
       "      <td>p</td>\n",
       "    </tr>\n",
       "    <tr>\n",
       "      <th>2</th>\n",
       "      <td>3116947</td>\n",
       "      <td>p</td>\n",
       "    </tr>\n",
       "    <tr>\n",
       "      <th>3</th>\n",
       "      <td>3116948</td>\n",
       "      <td>p</td>\n",
       "    </tr>\n",
       "    <tr>\n",
       "      <th>4</th>\n",
       "      <td>3116949</td>\n",
       "      <td>e</td>\n",
       "    </tr>\n",
       "    <tr>\n",
       "      <th>...</th>\n",
       "      <td>...</td>\n",
       "      <td>...</td>\n",
       "    </tr>\n",
       "    <tr>\n",
       "      <th>2077959</th>\n",
       "      <td>5194904</td>\n",
       "      <td>p</td>\n",
       "    </tr>\n",
       "    <tr>\n",
       "      <th>2077960</th>\n",
       "      <td>5194905</td>\n",
       "      <td>p</td>\n",
       "    </tr>\n",
       "    <tr>\n",
       "      <th>2077961</th>\n",
       "      <td>5194906</td>\n",
       "      <td>p</td>\n",
       "    </tr>\n",
       "    <tr>\n",
       "      <th>2077962</th>\n",
       "      <td>5194907</td>\n",
       "      <td>e</td>\n",
       "    </tr>\n",
       "    <tr>\n",
       "      <th>2077963</th>\n",
       "      <td>5194908</td>\n",
       "      <td>e</td>\n",
       "    </tr>\n",
       "  </tbody>\n",
       "</table>\n",
       "<p>2077964 rows × 2 columns</p>\n",
       "</div>"
      ],
      "text/plain": [
       "              id class\n",
       "0        3116945     e\n",
       "1        3116946     p\n",
       "2        3116947     p\n",
       "3        3116948     p\n",
       "4        3116949     e\n",
       "...          ...   ...\n",
       "2077959  5194904     p\n",
       "2077960  5194905     p\n",
       "2077961  5194906     p\n",
       "2077962  5194907     e\n",
       "2077963  5194908     e\n",
       "\n",
       "[2077964 rows x 2 columns]"
      ]
     },
     "execution_count": 21,
     "metadata": {},
     "output_type": "execute_result"
    }
   ],
   "source": [
    "df_submission"
   ]
  },
  {
   "cell_type": "code",
   "execution_count": 22,
   "metadata": {},
   "outputs": [
    {
     "data": {
      "text/html": [
       "<div>\n",
       "<style scoped>\n",
       "    .dataframe tbody tr th:only-of-type {\n",
       "        vertical-align: middle;\n",
       "    }\n",
       "\n",
       "    .dataframe tbody tr th {\n",
       "        vertical-align: top;\n",
       "    }\n",
       "\n",
       "    .dataframe thead th {\n",
       "        text-align: right;\n",
       "    }\n",
       "</style>\n",
       "<table border=\"1\" class=\"dataframe\">\n",
       "  <thead>\n",
       "    <tr style=\"text-align: right;\">\n",
       "      <th></th>\n",
       "      <th>id</th>\n",
       "      <th>class</th>\n",
       "    </tr>\n",
       "  </thead>\n",
       "  <tbody>\n",
       "    <tr>\n",
       "      <th>0</th>\n",
       "      <td>3116945</td>\n",
       "      <td>e</td>\n",
       "    </tr>\n",
       "    <tr>\n",
       "      <th>1</th>\n",
       "      <td>3116946</td>\n",
       "      <td>e</td>\n",
       "    </tr>\n",
       "    <tr>\n",
       "      <th>2</th>\n",
       "      <td>3116947</td>\n",
       "      <td>e</td>\n",
       "    </tr>\n",
       "    <tr>\n",
       "      <th>3</th>\n",
       "      <td>3116948</td>\n",
       "      <td>e</td>\n",
       "    </tr>\n",
       "    <tr>\n",
       "      <th>4</th>\n",
       "      <td>3116949</td>\n",
       "      <td>e</td>\n",
       "    </tr>\n",
       "    <tr>\n",
       "      <th>...</th>\n",
       "      <td>...</td>\n",
       "      <td>...</td>\n",
       "    </tr>\n",
       "    <tr>\n",
       "      <th>2077959</th>\n",
       "      <td>5194904</td>\n",
       "      <td>e</td>\n",
       "    </tr>\n",
       "    <tr>\n",
       "      <th>2077960</th>\n",
       "      <td>5194905</td>\n",
       "      <td>e</td>\n",
       "    </tr>\n",
       "    <tr>\n",
       "      <th>2077961</th>\n",
       "      <td>5194906</td>\n",
       "      <td>e</td>\n",
       "    </tr>\n",
       "    <tr>\n",
       "      <th>2077962</th>\n",
       "      <td>5194907</td>\n",
       "      <td>e</td>\n",
       "    </tr>\n",
       "    <tr>\n",
       "      <th>2077963</th>\n",
       "      <td>5194908</td>\n",
       "      <td>e</td>\n",
       "    </tr>\n",
       "  </tbody>\n",
       "</table>\n",
       "<p>2077964 rows × 2 columns</p>\n",
       "</div>"
      ],
      "text/plain": [
       "              id class\n",
       "0        3116945     e\n",
       "1        3116946     e\n",
       "2        3116947     e\n",
       "3        3116948     e\n",
       "4        3116949     e\n",
       "...          ...   ...\n",
       "2077959  5194904     e\n",
       "2077960  5194905     e\n",
       "2077961  5194906     e\n",
       "2077962  5194907     e\n",
       "2077963  5194908     e\n",
       "\n",
       "[2077964 rows x 2 columns]"
      ]
     },
     "execution_count": 22,
     "metadata": {},
     "output_type": "execute_result"
    }
   ],
   "source": [
    "sub_sample"
   ]
  },
  {
   "cell_type": "code",
   "execution_count": null,
   "metadata": {},
   "outputs": [],
   "source": []
  },
  {
   "cell_type": "code",
   "execution_count": null,
   "metadata": {},
   "outputs": [],
   "source": []
  },
  {
   "cell_type": "code",
   "execution_count": null,
   "metadata": {},
   "outputs": [],
   "source": []
  },
  {
   "cell_type": "code",
   "execution_count": null,
   "metadata": {},
   "outputs": [],
   "source": []
  }
 ],
 "metadata": {
  "kernelspec": {
   "display_name": "mlp",
   "language": "python",
   "name": "mlp"
  },
  "language_info": {
   "codemirror_mode": {
    "name": "ipython",
    "version": 3
   },
   "file_extension": ".py",
   "mimetype": "text/x-python",
   "name": "python",
   "nbconvert_exporter": "python",
   "pygments_lexer": "ipython3",
   "version": "3.8.16"
  }
 },
 "nbformat": 4,
 "nbformat_minor": 2
}
